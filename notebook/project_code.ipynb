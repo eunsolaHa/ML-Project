{
 "cells": [
  {
   "cell_type": "code",
   "execution_count": 8,
   "metadata": {},
   "outputs": [],
   "source": [
    "#!pip install SpeechRecognition\n",
    "#!pip install playsound\n",
    "#!pip install gtts"
   ]
  },
  {
   "cell_type": "code",
   "execution_count": null,
   "metadata": {},
   "outputs": [],
   "source": []
  },
  {
   "cell_type": "markdown",
   "metadata": {},
   "source": [
    "### module import"
   ]
  },
  {
   "cell_type": "code",
   "execution_count": 9,
   "metadata": {},
   "outputs": [],
   "source": [
    "import librosa\n",
    "import librosa.display as dsp\n",
    "import sklearn\n",
    "import os\n",
    "import speech_recognition as sr\n",
    "import json\n",
    "import pandas as pd\n",
    "import numpy as np\n",
    "import time\n",
    "import playsound\n",
    "from tqdm import tqdm\n",
    "from sklearn.ensemble import RandomForestClassifier, GradientBoostingClassifier,AdaBoostClassifier\n",
    "from sklearn.tree import DecisionTreeClassifier\n",
    "from sklearn.linear_model import LogisticRegression\n",
    "from sklearn.feature_extraction.text import CountVectorizer, TfidfVectorizer\n",
    "from sklearn.model_selection import KFold,cross_val_score\n",
    "from gtts import gTTS"
   ]
  },
  {
   "cell_type": "code",
   "execution_count": 10,
   "metadata": {},
   "outputs": [],
   "source": [
    "import matplotlib.pyplot as plt\n",
    "from matplotlib import rc\n",
    "%matplotlib inline\n",
    "rc('font',family='Malgun Gothic')"
   ]
  },
  {
   "cell_type": "code",
   "execution_count": 129,
   "metadata": {},
   "outputs": [],
   "source": [
    "# 디지털 신호 추가 만들기\n",
    "def train_dataset(folder_path, input_data):\n",
    "    #folder_path = 'D:/project/data/sound'\n",
    "    temp = []\n",
    "\n",
    "    for idx, file in tqdm(input_data.iterrows(), colour='green'):\n",
    "        abs_file_path= os.path.join(folder_path,file['file_name'])\n",
    "        data, sr=librosa.load(abs_file_path, sr=16000)\n",
    "        temp.append(data)\n",
    "    input_data['data'] = temp\n",
    "    print('Dataset 생성완료')\n",
    "    return input_data[['file_name','data','sido']]\n",
    "\n",
    "# 데이터 특징 추출\n",
    "def preprocessing_train_dataset(data):\n",
    "    mfccs=[]\n",
    "    for i in data:\n",
    "        extracted_features=librosa.feature.mfcc(y=i, sr=16000, n_mfcc=40)\n",
    "        extracted_features=np.mean(extracted_features.T, axis=0)\n",
    "        mfccs.append(extracted_features)\n",
    "    return mfccs\n",
    "\n",
    "# mel spectogram 추출\n",
    "def preprocessing_mel_specto(data):\n",
    "    mel_specto = []\n",
    "    for i in data:\n",
    "        extraced_mel_specto = librosa.feature.melspectrogram(y=i, sr=16000, n_mels=40)\n",
    "        extraced_mel_specto = np.mean(extraced_mel_specto.T, axis=0)\n",
    "        mel_specto.append(extraced_mel_specto)\n",
    "    return mel_specto\n",
    "\n",
    "# wav파일 데이터프레임으로 만들기\n",
    "def wav_get_df(folder_path):\n",
    "    f_data=[]\n",
    "    for file in os.listdir(folder_path):\n",
    "        if 'wav' in file:\n",
    "            f_name=file\n",
    "            text=str(f_name)\n",
    "            sido=text[str(file).find('_' , str(file).find('_실내')-4)+1 : str(file).find('_실내')]\n",
    "            f_data.append([f_name,sido])\n",
    "    train=pd.DataFrame(f_data,columns=['file_name','sido'])\n",
    "    return train\n",
    "\n",
    "# 유클리드거리 Normalize 후 거리 계산\n",
    "def dist_norm(v1,v2):\n",
    "    import scipy as sp\n",
    "    v1_normalized=v1/sp.linalg.norm(v1.toarray())\n",
    "    v2_normalized=v2/sp.linalg.norm(v2.toarray())\n",
    "    delta = v1_normalized - v2_normalized\n",
    "\n",
    "    return sp.linalg.norm(delta.toarray())\n",
    "\n",
    "# 형태소 분석 후 말뭉치 만들기\n",
    "def word_tokens(sentence_list):\n",
    "    from konlpy.tag import Okt\n",
    "    t=Okt()\n",
    "    new_word_tokens=[t.morphs(row) for row in sentence_list]\n",
    "    new_word_vectorize=[]\n",
    "\n",
    "    for content in new_word_tokens:\n",
    "        sentence=''\n",
    "        for word in content:\n",
    "            sentence=sentence+' '+word\n",
    "        new_word_vectorize.append(sentence)\n",
    "    return new_word_vectorize"
   ]
  },
  {
   "cell_type": "code",
   "execution_count": 130,
   "metadata": {},
   "outputs": [
    {
     "data": {
      "text/html": [
       "<div>\n",
       "<style scoped>\n",
       "    .dataframe tbody tr th:only-of-type {\n",
       "        vertical-align: middle;\n",
       "    }\n",
       "\n",
       "    .dataframe tbody tr th {\n",
       "        vertical-align: top;\n",
       "    }\n",
       "\n",
       "    .dataframe thead th {\n",
       "        text-align: right;\n",
       "    }\n",
       "</style>\n",
       "<table border=\"1\" class=\"dataframe\">\n",
       "  <thead>\n",
       "    <tr style=\"text-align: right;\">\n",
       "      <th></th>\n",
       "      <th>file_name</th>\n",
       "      <th>sido</th>\n",
       "    </tr>\n",
       "  </thead>\n",
       "  <tbody>\n",
       "    <tr>\n",
       "      <th>0</th>\n",
       "      <td>노인남여_노인대화42_M_saheeae_61_수도권_실내_47250.wav</td>\n",
       "      <td>수도권</td>\n",
       "    </tr>\n",
       "    <tr>\n",
       "      <th>1</th>\n",
       "      <td>노인남여_노인대화42_M_saheeae_61_수도권_실내_47251.wav</td>\n",
       "      <td>수도권</td>\n",
       "    </tr>\n",
       "    <tr>\n",
       "      <th>2</th>\n",
       "      <td>노인남여_노인대화42_M_saheeae_61_수도권_실내_47252.wav</td>\n",
       "      <td>수도권</td>\n",
       "    </tr>\n",
       "    <tr>\n",
       "      <th>3</th>\n",
       "      <td>노인남여_노인대화42_M_saheeae_61_수도권_실내_47253.wav</td>\n",
       "      <td>수도권</td>\n",
       "    </tr>\n",
       "    <tr>\n",
       "      <th>4</th>\n",
       "      <td>노인남여_노인대화42_M_shzzang09_61_강원_실내_47250.wav</td>\n",
       "      <td>강원</td>\n",
       "    </tr>\n",
       "  </tbody>\n",
       "</table>\n",
       "</div>"
      ],
      "text/plain": [
       "                                    file_name sido\n",
       "0   노인남여_노인대화42_M_saheeae_61_수도권_실내_47250.wav  수도권\n",
       "1   노인남여_노인대화42_M_saheeae_61_수도권_실내_47251.wav  수도권\n",
       "2   노인남여_노인대화42_M_saheeae_61_수도권_실내_47252.wav  수도권\n",
       "3   노인남여_노인대화42_M_saheeae_61_수도권_실내_47253.wav  수도권\n",
       "4  노인남여_노인대화42_M_shzzang09_61_강원_실내_47250.wav   강원"
      ]
     },
     "execution_count": 130,
     "metadata": {},
     "output_type": "execute_result"
    }
   ],
   "source": [
    "folder = 'D:/project/data/sound'\n",
    "sido_dict = {'강원':0,'경상':1,'수도권':2,'전라':3,'제주':4,'충청':5}\n",
    "\n",
    "train = wav_get_df(folder)\n",
    "train.head()"
   ]
  },
  {
   "cell_type": "code",
   "execution_count": 131,
   "metadata": {},
   "outputs": [
    {
     "name": "stderr",
     "output_type": "stream",
     "text": [
      "80it [00:00, 794.20it/s]"
     ]
    },
    {
     "name": "stdout",
     "output_type": "stream",
     "text": [
      "Dataset 생성완료\n"
     ]
    },
    {
     "name": "stderr",
     "output_type": "stream",
     "text": [
      "\n"
     ]
    }
   ],
   "source": [
    "# librosa data 붙이기\n",
    "train = train_dataset(folder, train)"
   ]
  },
  {
   "cell_type": "code",
   "execution_count": 132,
   "metadata": {},
   "outputs": [
    {
     "data": {
      "text/html": [
       "<div>\n",
       "<style scoped>\n",
       "    .dataframe tbody tr th:only-of-type {\n",
       "        vertical-align: middle;\n",
       "    }\n",
       "\n",
       "    .dataframe tbody tr th {\n",
       "        vertical-align: top;\n",
       "    }\n",
       "\n",
       "    .dataframe thead th {\n",
       "        text-align: right;\n",
       "    }\n",
       "</style>\n",
       "<table border=\"1\" class=\"dataframe\">\n",
       "  <thead>\n",
       "    <tr style=\"text-align: right;\">\n",
       "      <th></th>\n",
       "      <th>file_name</th>\n",
       "      <th>data</th>\n",
       "      <th>sido</th>\n",
       "    </tr>\n",
       "  </thead>\n",
       "  <tbody>\n",
       "    <tr>\n",
       "      <th>0</th>\n",
       "      <td>노인남여_노인대화42_M_saheeae_61_수도권_실내_47250.wav</td>\n",
       "      <td>[0.0, 0.0, 0.0, 0.0, 0.0, 0.0, 0.0, 0.0, 0.0, ...</td>\n",
       "      <td>수도권</td>\n",
       "    </tr>\n",
       "    <tr>\n",
       "      <th>1</th>\n",
       "      <td>노인남여_노인대화42_M_saheeae_61_수도권_실내_47251.wav</td>\n",
       "      <td>[0.0, 0.0, 0.0, 0.0, 0.0, 0.0, 0.0, 0.0, 0.0, ...</td>\n",
       "      <td>수도권</td>\n",
       "    </tr>\n",
       "    <tr>\n",
       "      <th>2</th>\n",
       "      <td>노인남여_노인대화42_M_saheeae_61_수도권_실내_47252.wav</td>\n",
       "      <td>[0.0, 0.0, 0.0, 0.0, 0.0, 0.0, 0.0, 0.0, 0.0, ...</td>\n",
       "      <td>수도권</td>\n",
       "    </tr>\n",
       "  </tbody>\n",
       "</table>\n",
       "</div>"
      ],
      "text/plain": [
       "                                   file_name  \\\n",
       "0  노인남여_노인대화42_M_saheeae_61_수도권_실내_47250.wav   \n",
       "1  노인남여_노인대화42_M_saheeae_61_수도권_실내_47251.wav   \n",
       "2  노인남여_노인대화42_M_saheeae_61_수도권_실내_47252.wav   \n",
       "\n",
       "                                                data sido  \n",
       "0  [0.0, 0.0, 0.0, 0.0, 0.0, 0.0, 0.0, 0.0, 0.0, ...  수도권  \n",
       "1  [0.0, 0.0, 0.0, 0.0, 0.0, 0.0, 0.0, 0.0, 0.0, ...  수도권  \n",
       "2  [0.0, 0.0, 0.0, 0.0, 0.0, 0.0, 0.0, 0.0, 0.0, ...  수도권  "
      ]
     },
     "execution_count": 132,
     "metadata": {},
     "output_type": "execute_result"
    }
   ],
   "source": [
    "train.head(3)"
   ]
  },
  {
   "cell_type": "markdown",
   "metadata": {},
   "source": [
    "##### EDA"
   ]
  },
  {
   "cell_type": "code",
   "execution_count": 133,
   "metadata": {},
   "outputs": [],
   "source": [
    "# labeling\n",
    "\n",
    "for i in sido_dict:\n",
    "    train.loc[train['sido']==i,'label']=sido_dict[i]\n",
    "train=train.astype({'label':'int'})"
   ]
  },
  {
   "cell_type": "code",
   "execution_count": 134,
   "metadata": {},
   "outputs": [
    {
     "data": {
      "text/html": [
       "<div>\n",
       "<style scoped>\n",
       "    .dataframe tbody tr th:only-of-type {\n",
       "        vertical-align: middle;\n",
       "    }\n",
       "\n",
       "    .dataframe tbody tr th {\n",
       "        vertical-align: top;\n",
       "    }\n",
       "\n",
       "    .dataframe thead th {\n",
       "        text-align: right;\n",
       "    }\n",
       "</style>\n",
       "<table border=\"1\" class=\"dataframe\">\n",
       "  <thead>\n",
       "    <tr style=\"text-align: right;\">\n",
       "      <th></th>\n",
       "      <th>file_name</th>\n",
       "      <th>data</th>\n",
       "      <th>sido</th>\n",
       "      <th>label</th>\n",
       "    </tr>\n",
       "  </thead>\n",
       "  <tbody>\n",
       "    <tr>\n",
       "      <th>0</th>\n",
       "      <td>노인남여_노인대화42_M_saheeae_61_수도권_실내_47250.wav</td>\n",
       "      <td>[0.0, 0.0, 0.0, 0.0, 0.0, 0.0, 0.0, 0.0, 0.0, ...</td>\n",
       "      <td>수도권</td>\n",
       "      <td>2</td>\n",
       "    </tr>\n",
       "    <tr>\n",
       "      <th>1</th>\n",
       "      <td>노인남여_노인대화42_M_saheeae_61_수도권_실내_47251.wav</td>\n",
       "      <td>[0.0, 0.0, 0.0, 0.0, 0.0, 0.0, 0.0, 0.0, 0.0, ...</td>\n",
       "      <td>수도권</td>\n",
       "      <td>2</td>\n",
       "    </tr>\n",
       "    <tr>\n",
       "      <th>2</th>\n",
       "      <td>노인남여_노인대화42_M_saheeae_61_수도권_실내_47252.wav</td>\n",
       "      <td>[0.0, 0.0, 0.0, 0.0, 0.0, 0.0, 0.0, 0.0, 0.0, ...</td>\n",
       "      <td>수도권</td>\n",
       "      <td>2</td>\n",
       "    </tr>\n",
       "  </tbody>\n",
       "</table>\n",
       "</div>"
      ],
      "text/plain": [
       "                                   file_name  \\\n",
       "0  노인남여_노인대화42_M_saheeae_61_수도권_실내_47250.wav   \n",
       "1  노인남여_노인대화42_M_saheeae_61_수도권_실내_47251.wav   \n",
       "2  노인남여_노인대화42_M_saheeae_61_수도권_실내_47252.wav   \n",
       "\n",
       "                                                data sido  label  \n",
       "0  [0.0, 0.0, 0.0, 0.0, 0.0, 0.0, 0.0, 0.0, 0.0, ...  수도권      2  \n",
       "1  [0.0, 0.0, 0.0, 0.0, 0.0, 0.0, 0.0, 0.0, 0.0, ...  수도권      2  \n",
       "2  [0.0, 0.0, 0.0, 0.0, 0.0, 0.0, 0.0, 0.0, 0.0, ...  수도권      2  "
      ]
     },
     "execution_count": 134,
     "metadata": {},
     "output_type": "execute_result"
    }
   ],
   "source": [
    "train.head(3)"
   ]
  },
  {
   "cell_type": "code",
   "execution_count": 135,
   "metadata": {},
   "outputs": [
    {
     "data": {
      "text/plain": [
       "array(['수도권', '강원', '전라', '제주', '경상', '충청'], dtype=object)"
      ]
     },
     "execution_count": 135,
     "metadata": {},
     "output_type": "execute_result"
    }
   ],
   "source": [
    "# label값 순서\n",
    "train['sido'].unique()"
   ]
  },
  {
   "cell_type": "code",
   "execution_count": 136,
   "metadata": {},
   "outputs": [
    {
     "data": {
      "text/html": [
       "<div>\n",
       "<style scoped>\n",
       "    .dataframe tbody tr th:only-of-type {\n",
       "        vertical-align: middle;\n",
       "    }\n",
       "\n",
       "    .dataframe tbody tr th {\n",
       "        vertical-align: top;\n",
       "    }\n",
       "\n",
       "    .dataframe thead th {\n",
       "        text-align: right;\n",
       "    }\n",
       "</style>\n",
       "<table border=\"1\" class=\"dataframe\">\n",
       "  <thead>\n",
       "    <tr style=\"text-align: right;\">\n",
       "      <th></th>\n",
       "      <th>file_name</th>\n",
       "      <th>data</th>\n",
       "      <th>sido</th>\n",
       "      <th>label</th>\n",
       "    </tr>\n",
       "  </thead>\n",
       "  <tbody>\n",
       "    <tr>\n",
       "      <th>0</th>\n",
       "      <td>노인남여_노인대화42_M_saheeae_61_수도권_실내_47250.wav</td>\n",
       "      <td>[0.0, 0.0, 0.0, 0.0, 0.0, 0.0, 0.0, 0.0, 0.0, ...</td>\n",
       "      <td>수도권</td>\n",
       "      <td>2</td>\n",
       "    </tr>\n",
       "    <tr>\n",
       "      <th>1</th>\n",
       "      <td>노인남여_노인대화42_M_saheeae_61_수도권_실내_47251.wav</td>\n",
       "      <td>[0.0, 0.0, 0.0, 0.0, 0.0, 0.0, 0.0, 0.0, 0.0, ...</td>\n",
       "      <td>수도권</td>\n",
       "      <td>2</td>\n",
       "    </tr>\n",
       "    <tr>\n",
       "      <th>2</th>\n",
       "      <td>노인남여_노인대화42_M_saheeae_61_수도권_실내_47252.wav</td>\n",
       "      <td>[0.0, 0.0, 0.0, 0.0, 0.0, 0.0, 0.0, 0.0, 0.0, ...</td>\n",
       "      <td>수도권</td>\n",
       "      <td>2</td>\n",
       "    </tr>\n",
       "  </tbody>\n",
       "</table>\n",
       "</div>"
      ],
      "text/plain": [
       "                                   file_name  \\\n",
       "0  노인남여_노인대화42_M_saheeae_61_수도권_실내_47250.wav   \n",
       "1  노인남여_노인대화42_M_saheeae_61_수도권_실내_47251.wav   \n",
       "2  노인남여_노인대화42_M_saheeae_61_수도권_실내_47252.wav   \n",
       "\n",
       "                                                data sido  label  \n",
       "0  [0.0, 0.0, 0.0, 0.0, 0.0, 0.0, 0.0, 0.0, 0.0, ...  수도권      2  \n",
       "1  [0.0, 0.0, 0.0, 0.0, 0.0, 0.0, 0.0, 0.0, 0.0, ...  수도권      2  \n",
       "2  [0.0, 0.0, 0.0, 0.0, 0.0, 0.0, 0.0, 0.0, 0.0, ...  수도권      2  "
      ]
     },
     "execution_count": 136,
     "metadata": {},
     "output_type": "execute_result"
    }
   ],
   "source": [
    "train.head(3)"
   ]
  },
  {
   "cell_type": "markdown",
   "metadata": {},
   "source": [
    "##### 데이터 특징 추출"
   ]
  },
  {
   "cell_type": "code",
   "execution_count": 137,
   "metadata": {},
   "outputs": [
    {
     "data": {
      "text/plain": [
       "array([[-3.1068497e+02,  3.2733238e+01,  3.2957138e+01, ...,\n",
       "        -2.1848075e+00, -4.7321444e+00, -3.6186831e+00],\n",
       "       [-3.2117139e+02,  3.5584671e+01,  3.1903616e+01, ...,\n",
       "        -1.5928507e+00, -2.0415974e+00, -2.0641530e+00],\n",
       "       [-3.6123444e+02,  7.3490593e+01,  9.7413788e+00, ...,\n",
       "        -2.9921857e-01, -2.0832582e+00, -1.2986474e+00],\n",
       "       ...,\n",
       "       [-4.1085947e+02,  7.9185524e+01, -8.6800426e-01, ...,\n",
       "         1.8426933e+00,  2.4194811e-01,  2.6584666e+00],\n",
       "       [-4.3393106e+02,  8.0576927e+01,  5.5892811e+00, ...,\n",
       "         5.4376240e+00,  2.7236152e+00,  2.5306194e+00],\n",
       "       [-4.2421390e+02,  8.3980110e+01,  1.5271497e-01, ...,\n",
       "         1.8065962e+00,  1.1356741e+00,  2.6321607e+00]], dtype=float32)"
      ]
     },
     "execution_count": 137,
     "metadata": {},
     "output_type": "execute_result"
    }
   ],
   "source": [
    "# train 셋을 MFCC알고리즘을 이용하여 특징 추출\n",
    "mfccs=preprocessing_train_dataset(train.data)\n",
    "mfccs=np.array(mfccs)\n",
    "mfccs"
   ]
  },
  {
   "cell_type": "code",
   "execution_count": 138,
   "metadata": {},
   "outputs": [
    {
     "data": {
      "text/plain": [
       "array([[6.84296727e-01, 1.39165103e+00, 5.29830647e+00, ...,\n",
       "        4.50824648e-01, 6.39409721e-02, 7.33216200e-03],\n",
       "       [2.57258356e-01, 1.46378016e+00, 3.37562895e+00, ...,\n",
       "        7.03545332e-01, 9.34875160e-02, 7.23585254e-03],\n",
       "       [5.55855334e-01, 2.63953257e+00, 2.95688272e+00, ...,\n",
       "        1.94599573e-03, 8.79408151e-04, 4.51318745e-04],\n",
       "       ...,\n",
       "       [1.61691606e-02, 1.35398269e+00, 2.33877540e+00, ...,\n",
       "        5.74776146e-04, 5.26546326e-04, 1.15853676e-04],\n",
       "       [1.19632231e-02, 1.26473916e+00, 1.68106818e+00, ...,\n",
       "        2.54975923e-04, 1.59971140e-04, 6.53692623e-05],\n",
       "       [1.61725339e-02, 1.47489560e+00, 3.39081168e+00, ...,\n",
       "        8.53458187e-05, 4.83987133e-05, 1.67688922e-05]], dtype=float32)"
      ]
     },
     "execution_count": 138,
     "metadata": {},
     "output_type": "execute_result"
    }
   ],
   "source": [
    "# mel specto\n",
    "mel_spec = preprocessing_mel_specto(train.data)\n",
    "mel_spec = np.array(mel_spec)\n",
    "mel_spec"
   ]
  },
  {
   "cell_type": "code",
   "execution_count": 139,
   "metadata": {},
   "outputs": [
    {
     "name": "stdout",
     "output_type": "stream",
     "text": [
      "학습시킬 train 셋 : (48, 40) (48,)\n",
      "검증할 test 셋 : (32, 40) (32,)\n"
     ]
    }
   ],
   "source": [
    "# 학습/검증 데이터 분리\n",
    "from sklearn.model_selection import train_test_split\n",
    "train_X, test_X, train_y, test_y = train_test_split(mfccs, train.label, test_size=0.4, stratify=train.label)\n",
    "mel_train_X, mel_test_X, mel_train_y, mel_test_y = train_test_split(mel_spec, train.label, test_size=0.4, stratify=train.label)\n",
    "\n",
    "print('학습시킬 train 셋 :',train_X.shape, train_y.shape)\n",
    "print('검증할 test 셋 :',test_X.shape, test_y.shape)"
   ]
  },
  {
   "cell_type": "code",
   "execution_count": 140,
   "metadata": {},
   "outputs": [],
   "source": [
    "models=[]\n",
    "models.append(('RandomForestClassifier', RandomForestClassifier()))\n",
    "models.append(('DecisionTreeClassifier', DecisionTreeClassifier()))\n",
    "models.append(('AdaBoostClassifier', AdaBoostClassifier()))\n",
    "models.append(('GradientBoostingClassifier', GradientBoostingClassifier()))"
   ]
  },
  {
   "cell_type": "code",
   "execution_count": 141,
   "metadata": {},
   "outputs": [
    {
     "name": "stdout",
     "output_type": "stream",
     "text": [
      "[mfcc]\t\t\t RandomForestClassifier 0.7733333333333333 0.07048334012068314\n",
      "[mel spectogram]\t RandomForestClassifier 0.6488888888888888 0.13673440055924585\n",
      "[mfcc]\t\t\t DecisionTreeClassifier 0.5777777777777778 0.1928346057770368\n",
      "[mel spectogram]\t DecisionTreeClassifier 0.5866666666666667 0.12057475525556033\n",
      "[mfcc]\t\t\t AdaBoostClassifier 0.6022222222222222 0.08788319970348972\n",
      "[mel spectogram]\t AdaBoostClassifier 0.29999999999999993 0.1977652929892177\n",
      "[mfcc]\t\t\t GradientBoostingClassifier 0.7933333333333332 0.14012340240386176\n",
      "[mel spectogram]\t GradientBoostingClassifier 0.5222222222222221 0.12938601447119677\n"
     ]
    }
   ],
   "source": [
    "data=[]\n",
    "results=[]\n",
    "mel_spec_data = []\n",
    "mel_spec_results = []\n",
    "\n",
    "for name, model in models:\n",
    "    kfold=KFold(n_splits=5, random_state=13,shuffle=True)\n",
    "    cv_results=cross_val_score(model, train_X, train_y,cv=kfold, scoring='accuracy')\n",
    "    mel_cv_results = cross_val_score(model, mel_train_X, mel_train_y, cv=kfold, scoring='accuracy')\n",
    "    results.append(cv_results)\n",
    "    mel_spec_results.append(mel_cv_results)\n",
    "    data.append([name,cv_results.mean(),cv_results.std()])\n",
    "    mel_spec_data.append([name, mel_cv_results.mean(), mel_cv_results.std()])\n",
    "\n",
    "    print('[mfcc]\\t\\t\\t', name, cv_results.mean(), cv_results.std())\n",
    "    print('[mel spectogram]\\t', name, mel_cv_results.mean(), mel_cv_results.std())\n"
   ]
  },
  {
   "cell_type": "code",
   "execution_count": 142,
   "metadata": {},
   "outputs": [
    {
     "data": {
      "text/html": [
       "<div>\n",
       "<style scoped>\n",
       "    .dataframe tbody tr th:only-of-type {\n",
       "        vertical-align: middle;\n",
       "    }\n",
       "\n",
       "    .dataframe tbody tr th {\n",
       "        vertical-align: top;\n",
       "    }\n",
       "\n",
       "    .dataframe thead th {\n",
       "        text-align: right;\n",
       "    }\n",
       "</style>\n",
       "<table border=\"1\" class=\"dataframe\">\n",
       "  <thead>\n",
       "    <tr style=\"text-align: right;\">\n",
       "      <th></th>\n",
       "      <th>model</th>\n",
       "      <th>cv_mean</th>\n",
       "      <th>cv_std</th>\n",
       "    </tr>\n",
       "  </thead>\n",
       "  <tbody>\n",
       "    <tr>\n",
       "      <th>0</th>\n",
       "      <td>RandomForestClassifier</td>\n",
       "      <td>0.773333</td>\n",
       "      <td>0.070483</td>\n",
       "    </tr>\n",
       "    <tr>\n",
       "      <th>1</th>\n",
       "      <td>DecisionTreeClassifier</td>\n",
       "      <td>0.577778</td>\n",
       "      <td>0.192835</td>\n",
       "    </tr>\n",
       "    <tr>\n",
       "      <th>2</th>\n",
       "      <td>AdaBoostClassifier</td>\n",
       "      <td>0.602222</td>\n",
       "      <td>0.087883</td>\n",
       "    </tr>\n",
       "    <tr>\n",
       "      <th>3</th>\n",
       "      <td>GradientBoostingClassifier</td>\n",
       "      <td>0.793333</td>\n",
       "      <td>0.140123</td>\n",
       "    </tr>\n",
       "  </tbody>\n",
       "</table>\n",
       "</div>"
      ],
      "text/plain": [
       "                        model   cv_mean    cv_std\n",
       "0      RandomForestClassifier  0.773333  0.070483\n",
       "1      DecisionTreeClassifier  0.577778  0.192835\n",
       "2          AdaBoostClassifier  0.602222  0.087883\n",
       "3  GradientBoostingClassifier  0.793333  0.140123"
      ]
     },
     "execution_count": 142,
     "metadata": {},
     "output_type": "execute_result"
    }
   ],
   "source": [
    "result=pd.DataFrame(data,columns=['model','cv_mean','cv_std'])\n",
    "result"
   ]
  },
  {
   "cell_type": "code",
   "execution_count": 143,
   "metadata": {},
   "outputs": [
    {
     "data": {
      "image/png": "[encoded data removed]",
      "text/plain": [
       "<Figure size 1008x576 with 2 Axes>"
      ]
     },
     "metadata": {
      "needs_background": "light"
     },
     "output_type": "display_data"
    }
   ],
   "source": [
    "fig=plt.figure(figsize=(14,8))\n",
    "plt.title('Algorithm Comparison')\n",
    "ax=fig.add_subplot(111)\n",
    "plt.boxplot(results)\n",
    "ax.set_xticklabels(result['model'])\n",
    "plt.show()"
   ]
  },
  {
   "cell_type": "code",
   "execution_count": 144,
   "metadata": {},
   "outputs": [],
   "source": [
    "def ACCURACY(true,pred):\n",
    "    score=np.mean(true==pred)\n",
    "    return score"
   ]
  },
  {
   "cell_type": "code",
   "execution_count": 145,
   "metadata": {},
   "outputs": [
    {
     "name": "stdout",
     "output_type": "stream",
     "text": [
      "모델의 정확도는 87.50% 입니다.\n",
      "모델의 정확도는 68.75% 입니다.\n",
      "모델의 정확도는 53.12% 입니다.\n",
      "모델의 정확도는 68.75% 입니다.\n"
     ]
    }
   ],
   "source": [
    "for name,model in models:\n",
    "    model.fit(train_X,train_y)\n",
    "    pred=model.predict(test_X)\n",
    "    score=ACCURACY(test_y,pred)\n",
    "    print(f'모델의 정확도는 {score*100:.2f}% 입니다.')\n",
    "    #result.loc[result['model']==name,'Accuracy Score']=score"
   ]
  },
  {
   "cell_type": "code",
   "execution_count": 108,
   "metadata": {},
   "outputs": [
    {
     "data": {
      "text/html": [
       "<div>\n",
       "<style scoped>\n",
       "    .dataframe tbody tr th:only-of-type {\n",
       "        vertical-align: middle;\n",
       "    }\n",
       "\n",
       "    .dataframe tbody tr th {\n",
       "        vertical-align: top;\n",
       "    }\n",
       "\n",
       "    .dataframe thead th {\n",
       "        text-align: right;\n",
       "    }\n",
       "</style>\n",
       "<table border=\"1\" class=\"dataframe\">\n",
       "  <thead>\n",
       "    <tr style=\"text-align: right;\">\n",
       "      <th></th>\n",
       "      <th>model</th>\n",
       "      <th>cv_mean</th>\n",
       "      <th>cv_std</th>\n",
       "    </tr>\n",
       "  </thead>\n",
       "  <tbody>\n",
       "    <tr>\n",
       "      <th>0</th>\n",
       "      <td>RandomForestClassifier</td>\n",
       "      <td>0.828889</td>\n",
       "      <td>0.113224</td>\n",
       "    </tr>\n",
       "    <tr>\n",
       "      <th>1</th>\n",
       "      <td>DecisionTreeClassifier</td>\n",
       "      <td>0.686667</td>\n",
       "      <td>0.145619</td>\n",
       "    </tr>\n",
       "    <tr>\n",
       "      <th>2</th>\n",
       "      <td>AdaBoostClassifier</td>\n",
       "      <td>0.624444</td>\n",
       "      <td>0.103375</td>\n",
       "    </tr>\n",
       "    <tr>\n",
       "      <th>3</th>\n",
       "      <td>GradientBoostingClassifier</td>\n",
       "      <td>0.666667</td>\n",
       "      <td>0.073030</td>\n",
       "    </tr>\n",
       "  </tbody>\n",
       "</table>\n",
       "</div>"
      ],
      "text/plain": [
       "                        model   cv_mean    cv_std\n",
       "0      RandomForestClassifier  0.828889  0.113224\n",
       "1      DecisionTreeClassifier  0.686667  0.145619\n",
       "2          AdaBoostClassifier  0.624444  0.103375\n",
       "3  GradientBoostingClassifier  0.666667  0.073030"
      ]
     },
     "execution_count": 108,
     "metadata": {},
     "output_type": "execute_result"
    }
   ],
   "source": [
    "result"
   ]
  },
  {
   "cell_type": "code",
   "execution_count": 109,
   "metadata": {},
   "outputs": [
    {
     "name": "stdout",
     "output_type": "stream",
     "text": [
      "모델의 정확도는 98.81% 입니다.\n"
     ]
    }
   ],
   "source": [
    "# 모델 성능확인\n",
    "import numpy as np\n",
    "\n",
    "def ACCURACY(true,pred):\n",
    "    score=np.mean(true==pred)\n",
    "    return score\n",
    "\n",
    "prediction=model.predict(test_X)\n",
    "score=ACCURACY(test_y,prediction)\n",
    "print(f'모델의 정확도는 {score*100:.2f}% 입니다.')"
   ]
  },
  {
   "cell_type": "code",
   "execution_count": 110,
   "metadata": {},
   "outputs": [
    {
     "name": "stdout",
     "output_type": "stream",
     "text": [
      "RandomForestClassifier 0.993807687813997\n",
      "DecisionTreeClassifier 0.9059469564201426\n",
      "AdaBoostClassifier 0.7968220586517116\n",
      "GradientBoostingClassifier 0.9880827199439187\n"
     ]
    }
   ],
   "source": [
    "# test 데이터 평가결과\n",
    "from sklearn.metrics import accuracy_score\n",
    "\n",
    "for name, model in models:\n",
    "    model.fit(train_X,train_y)\n",
    "    pred=model.predict(test_X)\n",
    "    print(name, accuracy_score(test_y,pred))"
   ]
  },
  {
   "cell_type": "markdown",
   "metadata": {},
   "source": [
    "### 전체 테스트"
   ]
  },
  {
   "cell_type": "code",
   "execution_count": 146,
   "metadata": {},
   "outputs": [
    {
     "data": {
      "text/html": [
       "<div>\n",
       "<style scoped>\n",
       "    .dataframe tbody tr th:only-of-type {\n",
       "        vertical-align: middle;\n",
       "    }\n",
       "\n",
       "    .dataframe tbody tr th {\n",
       "        vertical-align: top;\n",
       "    }\n",
       "\n",
       "    .dataframe thead th {\n",
       "        text-align: right;\n",
       "    }\n",
       "</style>\n",
       "<table border=\"1\" class=\"dataframe\">\n",
       "  <thead>\n",
       "    <tr style=\"text-align: right;\">\n",
       "      <th></th>\n",
       "      <th>file_name</th>\n",
       "      <th>sido</th>\n",
       "    </tr>\n",
       "  </thead>\n",
       "  <tbody>\n",
       "    <tr>\n",
       "      <th>0</th>\n",
       "      <td>노인남여_노인대화42_M_saheeae_61_수도권_실내_47250.wav</td>\n",
       "      <td>수도권</td>\n",
       "    </tr>\n",
       "    <tr>\n",
       "      <th>1</th>\n",
       "      <td>노인남여_노인대화42_M_saheeae_61_수도권_실내_47251.wav</td>\n",
       "      <td>수도권</td>\n",
       "    </tr>\n",
       "    <tr>\n",
       "      <th>2</th>\n",
       "      <td>노인남여_노인대화42_M_saheeae_61_수도권_실내_47252.wav</td>\n",
       "      <td>수도권</td>\n",
       "    </tr>\n",
       "    <tr>\n",
       "      <th>3</th>\n",
       "      <td>노인남여_노인대화42_M_saheeae_61_수도권_실내_47253.wav</td>\n",
       "      <td>수도권</td>\n",
       "    </tr>\n",
       "    <tr>\n",
       "      <th>4</th>\n",
       "      <td>노인남여_노인대화42_M_saheeae_61_수도권_실내_47254.wav</td>\n",
       "      <td>수도권</td>\n",
       "    </tr>\n",
       "  </tbody>\n",
       "</table>\n",
       "</div>"
      ],
      "text/plain": [
       "                                   file_name sido\n",
       "0  노인남여_노인대화42_M_saheeae_61_수도권_실내_47250.wav  수도권\n",
       "1  노인남여_노인대화42_M_saheeae_61_수도권_실내_47251.wav  수도권\n",
       "2  노인남여_노인대화42_M_saheeae_61_수도권_실내_47252.wav  수도권\n",
       "3  노인남여_노인대화42_M_saheeae_61_수도권_실내_47253.wav  수도권\n",
       "4  노인남여_노인대화42_M_saheeae_61_수도권_실내_47254.wav  수도권"
      ]
     },
     "execution_count": 146,
     "metadata": {},
     "output_type": "execute_result"
    }
   ],
   "source": [
    "# 전체 테스트\n",
    "folder='D:/project/data/sound_merge'\n",
    "test=wav_get_df(folder)\n",
    "test.head()"
   ]
  },
  {
   "cell_type": "code",
   "execution_count": 149,
   "metadata": {},
   "outputs": [
    {
     "name": "stderr",
     "output_type": "stream",
     "text": [
      "21396it [01:24, 252.81it/s]"
     ]
    },
    {
     "name": "stdout",
     "output_type": "stream",
     "text": [
      "Dataset 생성완료\n"
     ]
    },
    {
     "name": "stderr",
     "output_type": "stream",
     "text": [
      "\n"
     ]
    },
    {
     "data": {
      "text/html": [
       "<div>\n",
       "<style scoped>\n",
       "    .dataframe tbody tr th:only-of-type {\n",
       "        vertical-align: middle;\n",
       "    }\n",
       "\n",
       "    .dataframe tbody tr th {\n",
       "        vertical-align: top;\n",
       "    }\n",
       "\n",
       "    .dataframe thead th {\n",
       "        text-align: right;\n",
       "    }\n",
       "</style>\n",
       "<table border=\"1\" class=\"dataframe\">\n",
       "  <thead>\n",
       "    <tr style=\"text-align: right;\">\n",
       "      <th></th>\n",
       "      <th>file_name</th>\n",
       "      <th>data</th>\n",
       "      <th>sido</th>\n",
       "    </tr>\n",
       "  </thead>\n",
       "  <tbody>\n",
       "    <tr>\n",
       "      <th>0</th>\n",
       "      <td>노인남여_노인대화42_M_saheeae_61_수도권_실내_47250.wav</td>\n",
       "      <td>[0.0, 0.0, 0.0, 0.0, 0.0, 0.0, 0.0, 0.0, 0.0, ...</td>\n",
       "      <td>수도권</td>\n",
       "    </tr>\n",
       "    <tr>\n",
       "      <th>1</th>\n",
       "      <td>노인남여_노인대화42_M_saheeae_61_수도권_실내_47251.wav</td>\n",
       "      <td>[0.0, 0.0, 0.0, 0.0, 0.0, 0.0, 0.0, 0.0, 0.0, ...</td>\n",
       "      <td>수도권</td>\n",
       "    </tr>\n",
       "    <tr>\n",
       "      <th>2</th>\n",
       "      <td>노인남여_노인대화42_M_saheeae_61_수도권_실내_47252.wav</td>\n",
       "      <td>[0.0, 0.0, 0.0, 0.0, 0.0, 0.0, 0.0, 0.0, 0.0, ...</td>\n",
       "      <td>수도권</td>\n",
       "    </tr>\n",
       "    <tr>\n",
       "      <th>3</th>\n",
       "      <td>노인남여_노인대화42_M_saheeae_61_수도권_실내_47253.wav</td>\n",
       "      <td>[0.0, 0.0, 0.0, 0.0, 0.0, 0.0, 0.0, 0.0, 0.0, ...</td>\n",
       "      <td>수도권</td>\n",
       "    </tr>\n",
       "    <tr>\n",
       "      <th>4</th>\n",
       "      <td>노인남여_노인대화42_M_saheeae_61_수도권_실내_47254.wav</td>\n",
       "      <td>[0.0, 0.0, 0.0, 0.0, 0.0, 0.0, 0.0, 0.0, 0.0, ...</td>\n",
       "      <td>수도권</td>\n",
       "    </tr>\n",
       "  </tbody>\n",
       "</table>\n",
       "</div>"
      ],
      "text/plain": [
       "                                   file_name  \\\n",
       "0  노인남여_노인대화42_M_saheeae_61_수도권_실내_47250.wav   \n",
       "1  노인남여_노인대화42_M_saheeae_61_수도권_실내_47251.wav   \n",
       "2  노인남여_노인대화42_M_saheeae_61_수도권_실내_47252.wav   \n",
       "3  노인남여_노인대화42_M_saheeae_61_수도권_실내_47253.wav   \n",
       "4  노인남여_노인대화42_M_saheeae_61_수도권_실내_47254.wav   \n",
       "\n",
       "                                                data sido  \n",
       "0  [0.0, 0.0, 0.0, 0.0, 0.0, 0.0, 0.0, 0.0, 0.0, ...  수도권  \n",
       "1  [0.0, 0.0, 0.0, 0.0, 0.0, 0.0, 0.0, 0.0, 0.0, ...  수도권  \n",
       "2  [0.0, 0.0, 0.0, 0.0, 0.0, 0.0, 0.0, 0.0, 0.0, ...  수도권  \n",
       "3  [0.0, 0.0, 0.0, 0.0, 0.0, 0.0, 0.0, 0.0, 0.0, ...  수도권  \n",
       "4  [0.0, 0.0, 0.0, 0.0, 0.0, 0.0, 0.0, 0.0, 0.0, ...  수도권  "
      ]
     },
     "execution_count": 149,
     "metadata": {},
     "output_type": "execute_result"
    }
   ],
   "source": [
    "# librosa data 붙이기\n",
    "folder='D:/project/data/sound_merge'\n",
    "test = train_dataset(folder, test)\n",
    "test.head()"
   ]
  },
  {
   "cell_type": "code",
   "execution_count": 151,
   "metadata": {},
   "outputs": [
    {
     "data": {
      "text/html": [
       "<div>\n",
       "<style scoped>\n",
       "    .dataframe tbody tr th:only-of-type {\n",
       "        vertical-align: middle;\n",
       "    }\n",
       "\n",
       "    .dataframe tbody tr th {\n",
       "        vertical-align: top;\n",
       "    }\n",
       "\n",
       "    .dataframe thead th {\n",
       "        text-align: right;\n",
       "    }\n",
       "</style>\n",
       "<table border=\"1\" class=\"dataframe\">\n",
       "  <thead>\n",
       "    <tr style=\"text-align: right;\">\n",
       "      <th></th>\n",
       "      <th>file_name</th>\n",
       "      <th>data</th>\n",
       "      <th>sido</th>\n",
       "      <th>label</th>\n",
       "    </tr>\n",
       "  </thead>\n",
       "  <tbody>\n",
       "    <tr>\n",
       "      <th>0</th>\n",
       "      <td>노인남여_노인대화42_M_saheeae_61_수도권_실내_47250.wav</td>\n",
       "      <td>[0.0, 0.0, 0.0, 0.0, 0.0, 0.0, 0.0, 0.0, 0.0, ...</td>\n",
       "      <td>수도권</td>\n",
       "      <td>2</td>\n",
       "    </tr>\n",
       "    <tr>\n",
       "      <th>1</th>\n",
       "      <td>노인남여_노인대화42_M_saheeae_61_수도권_실내_47251.wav</td>\n",
       "      <td>[0.0, 0.0, 0.0, 0.0, 0.0, 0.0, 0.0, 0.0, 0.0, ...</td>\n",
       "      <td>수도권</td>\n",
       "      <td>2</td>\n",
       "    </tr>\n",
       "    <tr>\n",
       "      <th>2</th>\n",
       "      <td>노인남여_노인대화42_M_saheeae_61_수도권_실내_47252.wav</td>\n",
       "      <td>[0.0, 0.0, 0.0, 0.0, 0.0, 0.0, 0.0, 0.0, 0.0, ...</td>\n",
       "      <td>수도권</td>\n",
       "      <td>2</td>\n",
       "    </tr>\n",
       "    <tr>\n",
       "      <th>3</th>\n",
       "      <td>노인남여_노인대화42_M_saheeae_61_수도권_실내_47253.wav</td>\n",
       "      <td>[0.0, 0.0, 0.0, 0.0, 0.0, 0.0, 0.0, 0.0, 0.0, ...</td>\n",
       "      <td>수도권</td>\n",
       "      <td>2</td>\n",
       "    </tr>\n",
       "    <tr>\n",
       "      <th>4</th>\n",
       "      <td>노인남여_노인대화42_M_saheeae_61_수도권_실내_47254.wav</td>\n",
       "      <td>[0.0, 0.0, 0.0, 0.0, 0.0, 0.0, 0.0, 0.0, 0.0, ...</td>\n",
       "      <td>수도권</td>\n",
       "      <td>2</td>\n",
       "    </tr>\n",
       "  </tbody>\n",
       "</table>\n",
       "</div>"
      ],
      "text/plain": [
       "                                   file_name  \\\n",
       "0  노인남여_노인대화42_M_saheeae_61_수도권_실내_47250.wav   \n",
       "1  노인남여_노인대화42_M_saheeae_61_수도권_실내_47251.wav   \n",
       "2  노인남여_노인대화42_M_saheeae_61_수도권_실내_47252.wav   \n",
       "3  노인남여_노인대화42_M_saheeae_61_수도권_실내_47253.wav   \n",
       "4  노인남여_노인대화42_M_saheeae_61_수도권_실내_47254.wav   \n",
       "\n",
       "                                                data sido  label  \n",
       "0  [0.0, 0.0, 0.0, 0.0, 0.0, 0.0, 0.0, 0.0, 0.0, ...  수도권      2  \n",
       "1  [0.0, 0.0, 0.0, 0.0, 0.0, 0.0, 0.0, 0.0, 0.0, ...  수도권      2  \n",
       "2  [0.0, 0.0, 0.0, 0.0, 0.0, 0.0, 0.0, 0.0, 0.0, ...  수도권      2  \n",
       "3  [0.0, 0.0, 0.0, 0.0, 0.0, 0.0, 0.0, 0.0, 0.0, ...  수도권      2  \n",
       "4  [0.0, 0.0, 0.0, 0.0, 0.0, 0.0, 0.0, 0.0, 0.0, ...  수도권      2  "
      ]
     },
     "execution_count": 151,
     "metadata": {},
     "output_type": "execute_result"
    }
   ],
   "source": [
    "for i in sido_dict:\n",
    "    test.loc[test['sido']==i,'label']=sido_dict[i]\n",
    "test=test.astype({'label':'int'})\n",
    "test.head()"
   ]
  },
  {
   "cell_type": "code",
   "execution_count": 156,
   "metadata": {},
   "outputs": [
    {
     "data": {
      "text/plain": [
       "array([[-3.1068497e+02,  3.2733238e+01,  3.2957138e+01, ...,\n",
       "        -2.1848075e+00, -4.7321444e+00, -3.6186831e+00],\n",
       "       [-3.2117139e+02,  3.5584671e+01,  3.1903616e+01, ...,\n",
       "        -1.5928507e+00, -2.0415974e+00, -2.0641530e+00],\n",
       "       [-3.6123444e+02,  7.3490593e+01,  9.7413788e+00, ...,\n",
       "        -2.9921857e-01, -2.0832582e+00, -1.2986474e+00],\n",
       "       ...,\n",
       "       [-3.6308875e+02,  4.9525265e+01,  3.8788483e+01, ...,\n",
       "         7.3604381e-01, -1.0305529e+00,  2.2937995e-01],\n",
       "       [-3.7005289e+02,  5.5464611e+01,  3.1752571e+01, ...,\n",
       "        -1.1063955e-02, -1.2999235e+00, -2.4740537e-01],\n",
       "       [-3.6471500e+02,  5.2806866e+01,  2.9990681e+01, ...,\n",
       "        -1.2403476e-01, -1.5416092e+00,  9.6639252e-01]], dtype=float32)"
      ]
     },
     "execution_count": 156,
     "metadata": {},
     "output_type": "execute_result"
    }
   ],
   "source": [
    "# test 셋을 MFCC알고리즘을 이용하여 특징 추출\n",
    "mfccs_test = preprocessing_train_dataset(test.data)\n",
    "mfccs_test = np.array(mfccs_test)\n",
    "mfccs_test"
   ]
  },
  {
   "cell_type": "code",
   "execution_count": 154,
   "metadata": {},
   "outputs": [
    {
     "data": {
      "text/plain": [
       "array([[6.8429673e-01, 1.3916510e+00, 5.2983065e+00, ..., 4.5082465e-01,\n",
       "        6.3940972e-02, 7.3321620e-03],\n",
       "       [2.5725836e-01, 1.4637802e+00, 3.3756289e+00, ..., 7.0354533e-01,\n",
       "        9.3487516e-02, 7.2358525e-03],\n",
       "       [5.5585533e-01, 2.6395326e+00, 2.9568827e+00, ..., 1.9459957e-03,\n",
       "        8.7940815e-04, 4.5131875e-04],\n",
       "       ...,\n",
       "       [2.0075577e-01, 5.5732894e+00, 6.8349667e+00, ..., 7.7857584e-02,\n",
       "        2.4911073e-01, 5.5600435e-01],\n",
       "       [1.3410009e-01, 4.7757845e+00, 1.6194263e+01, ..., 4.1049212e-02,\n",
       "        1.3428156e-01, 1.9005243e-01],\n",
       "       [9.9529363e-02, 4.8822556e+00, 8.6924171e+00, ..., 6.4965248e-02,\n",
       "        2.3184368e-01, 3.1810084e-01]], dtype=float32)"
      ]
     },
     "execution_count": 154,
     "metadata": {},
     "output_type": "execute_result"
    }
   ],
   "source": [
    "# test 셋을 mel specto 특징추출\n",
    "mel_spec = preprocessing_mel_specto(test.data)\n",
    "mel_spec = np.array(mel_spec)\n",
    "mel_spec"
   ]
  },
  {
   "cell_type": "code",
   "execution_count": 158,
   "metadata": {},
   "outputs": [
    {
     "name": "stdout",
     "output_type": "stream",
     "text": [
      "[mfcc] 모델의 정확도는 41.78% 입니다.\n",
      "========================================\n",
      "[mel specto] 모델의 정확도는 34.58% 입니다.\n"
     ]
    }
   ],
   "source": [
    "# 이전 모델을 사용하여 predict\n",
    "\n",
    "prediction_test = model.predict(mfccs_test)\n",
    "score=ACCURACY(test.label ,prediction_test)\n",
    "print(f'[mfcc] 모델의 정확도는 {score*100:.2f}% 입니다.')\n",
    "\n",
    "prediction_test = model.predict(mel_spec)\n",
    "print('=' * 40)\n",
    "score=ACCURACY(test.label ,prediction_test)\n",
    "print(f'[mel specto] 모델의 정확도는 {score*100:.2f}% 입니다.')"
   ]
  },
  {
   "cell_type": "markdown",
   "metadata": {},
   "source": [
    "##### 함수 모음"
   ]
  },
  {
   "cell_type": "code",
   "execution_count": 57,
   "metadata": {},
   "outputs": [],
   "source": [
    "# 대사 수집\n",
    "label_path='D:/project/data/sound'\n",
    "dir_list=os.listdir(label_path)\n",
    "label_data=[]\n",
    "\n",
    "for item in dir_list:\n",
    "    temp=os.path.join(label_path,item)\n",
    "    r=sr.Recognizer()\n",
    "    if 'json' in item:\n",
    "        with open(temp,'r', encoding='UTF-8') as f:\n",
    "            json_data=json.load(f)\n",
    "            label=json_data['발화정보']['stt'].replace('\\r\\n','')\n",
    "        label_data.append(label)"
   ]
  },
  {
   "cell_type": "code",
   "execution_count": 58,
   "metadata": {},
   "outputs": [
    {
     "data": {
      "text/plain": [
       "80"
      ]
     },
     "execution_count": 58,
     "metadata": {},
     "output_type": "execute_result"
    }
   ],
   "source": [
    "len(label_data)"
   ]
  },
  {
   "cell_type": "markdown",
   "metadata": {},
   "source": [
    "### CountVectorizer"
   ]
  },
  {
   "cell_type": "code",
   "execution_count": 59,
   "metadata": {},
   "outputs": [
    {
     "name": "stdout",
     "output_type": "stream",
     "text": [
      "X에는 80개의 문장에 말뭉치 단어가 총 283개 존재\n"
     ]
    }
   ],
   "source": [
    "vectorizer=CountVectorizer(min_df=1)\n",
    "X=vectorizer.fit_transform(word_tokens(label_data))\n",
    "num_samples, num_features=X.shape\n",
    "X.toarray().transpose()\n",
    "print(f'X에는 {num_samples}개의 문장에 말뭉치 단어가 총 {num_features}개 존재')"
   ]
  },
  {
   "cell_type": "code",
   "execution_count": 65,
   "metadata": {},
   "outputs": [
    {
     "name": "stdout",
     "output_type": "stream",
     "text": [
      "result2:\n",
      "{   'alternative': [   {   'confidence': 0.76590234,\n",
      "                           'transcript': '다시금 돼 찾을 수 있게 우리 오늘이 시간을 계기로 해서 해 '\n",
      "                                         '보자고요'},\n",
      "                       {'transcript': '다시금 돼 찾을 수 있게 우리 오늘 이시간을 계기로 해서 해 보자고요'},\n",
      "                       {'transcript': '다시금 돼 찾을 수 있게 우리 오늘 2시간을 계기로 해서 해 보자고요'},\n",
      "                       {'transcript': '다시금 돼 찾을 수 있게 우리 오늘이 시간을 계기로 해서 해 보자구요'},\n",
      "                       {'transcript': '다시금대 찾을 수 있게 우리 오늘이 시간을 계기로 해서 해 보자고요'}],\n",
      "    'final': True}\n"
     ]
    }
   ],
   "source": [
    "# 음성파일 데이터\n",
    "path='D:/project/data/sound'\n",
    "dir_list=os.listdir(path)\n",
    "best_dist=[]\n",
    "text_data=[]\n",
    "best_dist_post=[]\n",
    "\n",
    "for item in dir_list[:3]:\n",
    "\n",
    "    if item[-3:] != 'wav':\n",
    "        continue\n",
    "    \n",
    "    temp=os.path.join(path,item)\n",
    "    r=sr.Recognizer()\n",
    "    \n",
    "    # STT\n",
    "    with sr.AudioFile(temp) as source:\n",
    "        audio=r.record(source, duration=120)\n",
    "    new_post=r.recognize_google(audio_data=audio, language='ko-KR')\n",
    "    new_post_list=[new_post]\n",
    "\n",
    "    # 인풋 데이터 벡터화\n",
    "    new_post_vec=vectorizer.transform(word_tokens(new_post_list))\n",
    "    new_post_vec.toarray()\n",
    "    \n",
    "    # CountVector 정규화하여 거리 계산\n",
    "    dist=[dist_norm(each, new_post_vec) for each in X]\n",
    "    \n",
    "    #유사도 측정\n",
    "    best_dist.append(min(dist))\n",
    "    text_data.append(new_post)\n",
    "    best_dist_post.append(label_data[dist.index(min(dist))])"
   ]
  },
  {
   "cell_type": "code",
   "execution_count": 66,
   "metadata": {},
   "outputs": [
    {
     "data": {
      "text/html": [
       "<div>\n",
       "<style scoped>\n",
       "    .dataframe tbody tr th:only-of-type {\n",
       "        vertical-align: middle;\n",
       "    }\n",
       "\n",
       "    .dataframe tbody tr th {\n",
       "        vertical-align: top;\n",
       "    }\n",
       "\n",
       "    .dataframe thead th {\n",
       "        text-align: right;\n",
       "    }\n",
       "</style>\n",
       "<table border=\"1\" class=\"dataframe\">\n",
       "  <thead>\n",
       "    <tr style=\"text-align: right;\">\n",
       "      <th></th>\n",
       "      <th>Best_dist</th>\n",
       "      <th>Input_Data</th>\n",
       "      <th>Best_Post</th>\n",
       "    </tr>\n",
       "  </thead>\n",
       "  <tbody>\n",
       "    <tr>\n",
       "      <th>0</th>\n",
       "      <td>0.485969</td>\n",
       "      <td>다시금 돼 찾을 수 있게 우리 오늘이 시간을 계기로 해서 해 보자고요</td>\n",
       "      <td>다시금 되찾을 수 있게 우리 오늘 이 시간을 계기로 해서 해 보자고요</td>\n",
       "    </tr>\n",
       "  </tbody>\n",
       "</table>\n",
       "</div>"
      ],
      "text/plain": [
       "   Best_dist                              Input_Data  \\\n",
       "0   0.485969  다시금 돼 찾을 수 있게 우리 오늘이 시간을 계기로 해서 해 보자고요   \n",
       "\n",
       "                                Best_Post  \n",
       "0  다시금 되찾을 수 있게 우리 오늘 이 시간을 계기로 해서 해 보자고요  "
      ]
     },
     "execution_count": 66,
     "metadata": {},
     "output_type": "execute_result"
    }
   ],
   "source": [
    "import pandas as pd\n",
    "data={\n",
    "    'Best_dist':best_dist,\n",
    "    'Input_Data':text_data,\n",
    "    'Best_Post':best_dist_post\n",
    "}\n",
    "test=pd.DataFrame(data)\n",
    "test.head()"
   ]
  },
  {
   "cell_type": "code",
   "execution_count": 67,
   "metadata": {},
   "outputs": [
    {
     "name": "stdout",
     "output_type": "stream",
     "text": [
      "표준어 데이터 :  다시금 되찾을 수 있게 우리 오늘 이 시간을 계기로 해서 해 보자고요\n"
     ]
    },
    {
     "ename": "FileNotFoundError",
     "evalue": "[Errno 2] No such file or directory: 'C:/Users/ej077/ds_study/source_code/ML_project/음성테스트0.wav'",
     "output_type": "error",
     "traceback": [
      "\u001b[1;31m---------------------------------------------------------------------------\u001b[0m",
      "\u001b[1;31mFileNotFoundError\u001b[0m                         Traceback (most recent call last)",
      "\u001b[1;32md:\\project\\ml-project-1\\notebook\\project_1조 (1).ipynb 셀 42\u001b[0m in \u001b[0;36m<module>\u001b[1;34m\u001b[0m\n\u001b[0;32m      <a href='vscode-notebook-cell:/d%3A/project/ml-project-1/notebook/project_1%EC%A1%B0%20%281%29.ipynb#X52sZmlsZQ%3D%3D?line=2'>3</a>\u001b[0m tts\u001b[39m=\u001b[39mgTTS(text\u001b[39m=\u001b[39mrow[\u001b[39m'\u001b[39m\u001b[39mBest_Post\u001b[39m\u001b[39m'\u001b[39m], lang\u001b[39m=\u001b[39m\u001b[39m'\u001b[39m\u001b[39mko\u001b[39m\u001b[39m'\u001b[39m, slow\u001b[39m=\u001b[39m\u001b[39mTrue\u001b[39;00m)\n\u001b[0;32m      <a href='vscode-notebook-cell:/d%3A/project/ml-project-1/notebook/project_1%EC%A1%B0%20%281%29.ipynb#X52sZmlsZQ%3D%3D?line=3'>4</a>\u001b[0m file_name\u001b[39m=\u001b[39m\u001b[39mf\u001b[39m\u001b[39m\"\u001b[39m\u001b[39mC:/Users/ej077/ds_study/source_code/ML_project/음성테스트\u001b[39m\u001b[39m{\u001b[39;00midx\u001b[39m}\u001b[39;00m\u001b[39m.wav\u001b[39m\u001b[39m\"\u001b[39m\n\u001b[1;32m----> <a href='vscode-notebook-cell:/d%3A/project/ml-project-1/notebook/project_1%EC%A1%B0%20%281%29.ipynb#X52sZmlsZQ%3D%3D?line=4'>5</a>\u001b[0m tts\u001b[39m.\u001b[39;49msave(file_name)\n\u001b[0;32m      <a href='vscode-notebook-cell:/d%3A/project/ml-project-1/notebook/project_1%EC%A1%B0%20%281%29.ipynb#X52sZmlsZQ%3D%3D?line=6'>7</a>\u001b[0m \u001b[39mfrom\u001b[39;00m \u001b[39mIPython\u001b[39;00m\u001b[39m.\u001b[39;00m\u001b[39mdisplay\u001b[39;00m \u001b[39mimport\u001b[39;00m Audio\n\u001b[0;32m      <a href='vscode-notebook-cell:/d%3A/project/ml-project-1/notebook/project_1%EC%A1%B0%20%281%29.ipynb#X52sZmlsZQ%3D%3D?line=7'>8</a>\u001b[0m display(Audio(file_name, autoplay\u001b[39m=\u001b[39m\u001b[39mTrue\u001b[39;00m))\n",
      "File \u001b[1;32mc:\\Users\\user\\AppData\\Local\\Programs\\Python\\Python310\\lib\\site-packages\\gtts\\tts.py:328\u001b[0m, in \u001b[0;36mgTTS.save\u001b[1;34m(self, savefile)\u001b[0m\n\u001b[0;32m    318\u001b[0m \u001b[39mdef\u001b[39;00m \u001b[39msave\u001b[39m(\u001b[39mself\u001b[39m, savefile):\n\u001b[0;32m    319\u001b[0m     \u001b[39m\"\"\"Do the TTS API request and write result to file.\u001b[39;00m\n\u001b[0;32m    320\u001b[0m \n\u001b[0;32m    321\u001b[0m \u001b[39m    Args:\u001b[39;00m\n\u001b[1;32m   (...)\u001b[0m\n\u001b[0;32m    326\u001b[0m \n\u001b[0;32m    327\u001b[0m \u001b[39m    \"\"\"\u001b[39;00m\n\u001b[1;32m--> 328\u001b[0m     \u001b[39mwith\u001b[39;00m \u001b[39mopen\u001b[39;49m(\u001b[39mstr\u001b[39;49m(savefile), \u001b[39m\"\u001b[39;49m\u001b[39mwb\u001b[39;49m\u001b[39m\"\u001b[39;49m) \u001b[39mas\u001b[39;00m f:\n\u001b[0;32m    329\u001b[0m         \u001b[39mself\u001b[39m\u001b[39m.\u001b[39mwrite_to_fp(f)\n\u001b[0;32m    330\u001b[0m         log\u001b[39m.\u001b[39mdebug(\u001b[39m\"\u001b[39m\u001b[39mSaved to \u001b[39m\u001b[39m%s\u001b[39;00m\u001b[39m\"\u001b[39m, savefile)\n",
      "\u001b[1;31mFileNotFoundError\u001b[0m: [Errno 2] No such file or directory: 'C:/Users/ej077/ds_study/source_code/ML_project/음성테스트0.wav'"
     ]
    }
   ],
   "source": [
    "for idx,row in test.iterrows():\n",
    "    print('표준어 데이터 : ',row['Best_Post'])\n",
    "    tts=gTTS(text=row['Best_Post'], lang='ko', slow=True)\n",
    "    file_name=f\"C:/Users/ej077/ds_study/source_code/ML_project/음성테스트{idx}.wav\"\n",
    "    tts.save(file_name)\n",
    "\n",
    "    from IPython.display import Audio\n",
    "    display(Audio(file_name, autoplay=True))"
   ]
  },
  {
   "cell_type": "markdown",
   "metadata": {},
   "source": [
    "### TF-IDF"
   ]
  },
  {
   "cell_type": "code",
   "execution_count": 68,
   "metadata": {},
   "outputs": [
    {
     "name": "stdout",
     "output_type": "stream",
     "text": [
      "X에는 80개의 문장에 말뭉치 단어가 총 283개 존재\n"
     ]
    }
   ],
   "source": [
    "vectorizer=TfidfVectorizer(min_df=1, decode_error='ignore')\n",
    "X=vectorizer.fit_transform(word_tokens(label_data))\n",
    "num_samples, num_features=X.shape \n",
    "X.toarray().transpose() # 가중치와 역 가중치가 반영되면서 배열의 값이 바뀜\n",
    "print(f'X에는 {num_samples}개의 문장에 말뭉치 단어가 총 {num_features}개 존재')"
   ]
  },
  {
   "cell_type": "code",
   "execution_count": 70,
   "metadata": {},
   "outputs": [
    {
     "name": "stdout",
     "output_type": "stream",
     "text": [
      "result2:\n",
      "{   'alternative': [   {   'confidence': 0.76590228,\n",
      "                           'transcript': '다시금 돼 찾을 수 있게 우리 오늘이 시간을 계기로 해서 해 '\n",
      "                                         '보자고요'},\n",
      "                       {'transcript': '다시금 돼 찾을 수 있게 우리 오늘 이시간을 계기로 해서 해 보자고요'},\n",
      "                       {'transcript': '다시금 돼 찾을 수 있게 우리 오늘 2시간을 계기로 해서 해 보자고요'},\n",
      "                       {'transcript': '다시금 돼 찾을 수 있게 우리 오늘이 시간을 계기로 해서 해 보자구요'},\n",
      "                       {'transcript': '다시금대 찾을 수 있게 우리 오늘이 시간을 계기로 해서 해 보자고요'}],\n",
      "    'final': True}\n"
     ]
    }
   ],
   "source": [
    "# 음성파일 데이터\n",
    "path=r'D:/project/data/sound'\n",
    "dir_list=os.listdir(path)\n",
    "best_dist=[]\n",
    "text_data=[]\n",
    "best_dist_post=[]\n",
    "\n",
    "for item in dir_list[:3]:\n",
    "\n",
    "    if item[-3:] != 'wav':\n",
    "        continue\n",
    "    \n",
    "    temp=os.path.join(path,item)\n",
    "    r=sr.Recognizer()\n",
    "    \n",
    "    # STT\n",
    "    with sr.AudioFile(temp) as source:\n",
    "        audio=r.record(source, duration=120)\n",
    "    new_post=r.recognize_google(audio_data=audio, language='ko-KR')\n",
    "    new_post_list=[new_post]\n",
    "\n",
    "    # 인풋 데이터 벡터화\n",
    "    new_post_vec=vectorizer.transform(word_tokens(new_post_list))\n",
    "    new_post_vec.toarray()\n",
    "    \n",
    "    # CountVector 정규화하여 거리 계산\n",
    "    dist=[dist_norm(each, new_post_vec) for each in X]\n",
    "    \n",
    "    #유사도 측정\n",
    "    best_dist.append(min(dist))\n",
    "    text_data.append(new_post)\n",
    "    best_dist_post.append(label_data[dist.index(min(dist))])"
   ]
  },
  {
   "cell_type": "code",
   "execution_count": 71,
   "metadata": {},
   "outputs": [
    {
     "data": {
      "text/html": [
       "<div>\n",
       "<style scoped>\n",
       "    .dataframe tbody tr th:only-of-type {\n",
       "        vertical-align: middle;\n",
       "    }\n",
       "\n",
       "    .dataframe tbody tr th {\n",
       "        vertical-align: top;\n",
       "    }\n",
       "\n",
       "    .dataframe thead th {\n",
       "        text-align: right;\n",
       "    }\n",
       "</style>\n",
       "<table border=\"1\" class=\"dataframe\">\n",
       "  <thead>\n",
       "    <tr style=\"text-align: right;\">\n",
       "      <th></th>\n",
       "      <th>Best_dist</th>\n",
       "      <th>Input_Data</th>\n",
       "      <th>Best_Post</th>\n",
       "    </tr>\n",
       "  </thead>\n",
       "  <tbody>\n",
       "    <tr>\n",
       "      <th>0</th>\n",
       "      <td>0.529512</td>\n",
       "      <td>다시금 돼 찾을 수 있게 우리 오늘이 시간을 계기로 해서 해 보자고요</td>\n",
       "      <td>다시금 되찾을 수 있게 우리 오늘 이 시간을 계기로 해서 해 보자고요</td>\n",
       "    </tr>\n",
       "  </tbody>\n",
       "</table>\n",
       "</div>"
      ],
      "text/plain": [
       "   Best_dist                              Input_Data  \\\n",
       "0   0.529512  다시금 돼 찾을 수 있게 우리 오늘이 시간을 계기로 해서 해 보자고요   \n",
       "\n",
       "                                Best_Post  \n",
       "0  다시금 되찾을 수 있게 우리 오늘 이 시간을 계기로 해서 해 보자고요  "
      ]
     },
     "execution_count": 71,
     "metadata": {},
     "output_type": "execute_result"
    }
   ],
   "source": [
    "data={\n",
    "    'Best_dist':best_dist,\n",
    "    'Input_Data':text_data,\n",
    "    'Best_Post':best_dist_post\n",
    "}\n",
    "test=pd.DataFrame(data)\n",
    "test.head()"
   ]
  },
  {
   "cell_type": "code",
   "execution_count": 87,
   "metadata": {},
   "outputs": [
    {
     "name": "stdout",
     "output_type": "stream",
     "text": [
      "표준어 데이터 :  그러면 그게 발효가 돼서 가을에 김장할 때 파 있잖아\n"
     ]
    },
    {
     "data": {
      "text/html": [
       "\n",
       "                <audio  controls=\"controls\" autoplay=\"autoplay\">\n",
       "                    <source src=\"data:audio/wav;base64,//NExAASWxn8AGCEvAgaND88CcyMSOWzBO1FZZWwtjkU6nf6E/5/+T9Xk/Rv6vJ+1/vJJ9r/////1e3Rv9Xu5F3q6EkIQhCHDizgZw4s4AQAAAAAABDKOzeQUdEAaBh+//NExAkQ8EowAVsYAA91J6W01ynpO43M+XwZFXIU4pl9xd8VA64DGOUMdt2ZdkpFrjm23rYwnKeUOa+TU45aLpVIJgNzXMieA36KGGLKWncBCwjDlr1N4t3evhlg/vCx//NExBgX+ypMAZqAAHKC+puFmwxoJwDVfV+IgF9A+hEyc1fZugaE4s3ur+qubvN0GR9f/bdRoaJE4VDNM////t0F90LJV//t32//dBBaZu7H0FLPoTSqWmXigSKgFSYC//NExAsRcMqkAYlgAOs62ZNjusYuSaxtabDoWS0SRKGkwMKHA/xO246JUcyvMGSeXyf9lVlb2psdWyz/u7kp//1DiQE+ZAA1JmRWkZ261pec8ntZHrPVDzaxHYJC2JwM//NExBgUYOacAclgAEHXxED5qAsA8NB79S6VDx5Wp1iq9Ld4uWSISphVw5Cgwq71Q885JhicG3Pm6p+nMT/v/Sq1gyl7HoXuYyqebKbRfwyDEmU2jTHVuU0A4tXktcYH//NExBkXITqgAMsYcO+kWVXq3vNxJLrJkBQw0G4cLSkOY6ocNVhumMBAPTs/XtiRVtf9Onfy+/TOmd6ebC4oXPs/RX9VupyX0sdruZ+n/2DlxzZaJ7US3g7mIGJ8TUNJ//NExA8WQVKoAMvYlACOlDUirNKdbNDOtxockac33JeNFlN8WKJKIYrTvL8rkQcNJlVRkSxTAWNRaNhinJ7mMbTpmZvladbutAvqvXM0X1D7f///OGfomZ4UkGqUwACU//NExAkSyU6sAMPQlSEvYd2NqpmA0x2Yi1m1Z72ejG4wWJycTqSSZeqA6w4S8vZZozLBYmadiYn4UUeCkAUzg4VNaP71jntexaVGOSdMuKqghksu5b4hcap6iSCa7OET//NExBAQQRasAMPMcATBYYNP2fDyJVjZ+xv5S/s7cXBkBwG5TKvXu8uCaeiEMdAybi9/788zAcMIBNqSbOn5kcdjcwWsh6IgI6dIQSNoiUQREp36hlzithqc30c3CvsC//NExCISWUa0AMvYceAJBpXQCXbt8we1besx2OKm0bpwi5Y7sNvycmb2mlZp+xxMOPSi3XXGmQoXFVDj+uyPE5CsqiDsgkF+ZS+c72TRURV4ajmXQeDWhYpMREKKNB3j//NExCsR4Va0AMvGlXqHbd65jdxJBKQZUABQQSX5dOv9UGwUGEZWHFk15HAvpxJKAgTcsKC3wR1a8UDIT5DA5qAdcqpibzUdQXvLwJYOBIeHEmpwm5wtzmYVtZ4rkPBB//NExDYScVKwAMRQlLIdmlC8EXtyVu3GhvIaGh3cGPchykoJq8qZAYWGWJsVdsZYy4QCiM22edlE7MSZ+qdnjjS0tsyxoKvofiVMgS18Z5vIdvS2r7ZbrQBlpP//L4z///NExD8RgUKwAMYMcTs2keblUt3Bupy1ZAtHcC5RYLXTUEsijs8dR4UJThxMJBjqLeOEhIkwaoRUeofz6HCxbNfqtrbrXH1kjag5RJnsx3/Utuf8agLRYSqnY6ZTygYT//NExEwRCUqcAMPGlTDEs3AUAhGLZgODkKi6CvQwTzaj/Txd2UlplkxLArkCWMV4rBzrLTFxdsvSmxKzmtUBJgKOAZQKJQlzdfSWWQpwWDGgRAYXM5NEMUUjBRgykVUY//NExFoRoOp4ANvMcEvg4InnOwYhc1GnjIUKckbG9jVqGQFE4RdX3fVKv4Go/lYGFjCBw+SZzoU4gU/q9fned2FJyNWs9BgMQZsAOqI05ujKQAlAoLXUBA9EeXT80EvT//NExGYSSUqEANvKlbTyhVRzMLOulerLxIELXbqwNsCgUSgMhCzoHGXDg2YJw7NGSlChCBwUHThJpGfPEZtyN+1OOkfWD6ERk0S5/F3kP//4q0Qd6MQf/OfxZaHUAjNw//NExG8asWaQANvSlNsDa4ISBszLnA0scRUuh7xQcnxGRHR1qUXYvDUT5whKZD546EQJFOtsTfHmYULUQfoGmYwfoJ8uBcmRuN5Sq9FLtOVVC3OeB5w2hkdPmV61K1/C//NExFcf+W6UANPelLUtFc1Uso8p1ejC8P2RQZdPLvcz//4TQAH7FpQF3p/1yQAPiOBEPAQqj0ZEJQ6ZVto4IDkMQ+YEkREKUqBigRSQGUDt1kw93G7Qj8oH3NP/3F4K//NExCob2WKgANYelCu0sgutIk95lIsuLw61WX1kORljuj2bmWExDHnUx1KjHiSKZvfQnfxCiWXX7chDydQudmsDFyv//7XBIml3Ff/9FhU3XRXGYGQTlKh+qCR5ZWTT//NExA0UoWqsAMvWlEobadyYengEp7FK7o1Jrt6O+kV5S/urtiVnPYN+mC6X0yNOkBA7x+qB6WTCsu0CF+6goulfhvjuq3GUuI8MMsp///3FPqWrWIAjfJ2C1bKOhLgy//NExA0V2V6wAMPMlNdACMRquCQCk9QEmhH4fsRSJXb8v6hwd7o/D6GNtMjeOKIzrKsbY0eEBumjhZppQBJgMQn4T+LujXxmakUBKSLkAJ0kBZP///R9SudesbLg3NOH//NExAgToWa0AMPMlRXmr6aEAm/mGeAxVadZlNSGI5sPxtcVIhzEuTSSSyMZMHYT5XSqZumfYpXN82zKs83AMDZEKDn3Vlwbtb+3lOcEYbsye53a1NiM6/XoRNhFxS2S//NExAwR6Va4AMMGlSGDQ3fTrbUJAlJro7Lkx2yqUlg4Hq5kThoH8QS+m2CCqq7k5sskdmNRBhQTBhdU8YzFd+lrXC1xICnp1a0yCmS0QUb5oiuXgS6cJGcYSqQqRRoS//NExBcSCQasAMPecKZvZVCzNzt4r7H9VtPFmE2uvpbEOJWN4+KRsQdVtTecWjQYMSM+tCe/2nSQsbCbAzQqgEUQGoLozHDiykMfpiFrkK2khx4dsJWl9TpgopPHUzHl//NExCESWQKMANPYcBk83JxhX2VWq05QATFn9fxr6ZOdB9r+9iV8uvs5Vc7plwC8tzoFQ8C1bgIXA0UpGB05VKGT9SAWDTPgeKBcELIjwW3zABQp4cAqK5SjKpxCfmMR//NExCoSMPZ4ANsScGayqhTJsRIx2rg116RXJdDAmIyAbAnBK4QmDP/gBC1dJjZyd+iGA8hszGZQptMMCDjHQFh5g4GlaGAxtiqIWcA8zIOg41pxa1YiEMVjHd5eijUT//NExDQSgPJwANvMcMDGPszZ+w9oGnnBcDAlMmDpwZ//YqtkBggsjzvMCwgwYKhEaRQEhQhAkHAgMCMDCEEiEwlyfB3HuZzOn0aqFU5OnsBcubNTNszTp3nGbOlSJtHS//NExD0R6P5wAOPMcCDSKSRgnqGf/7dKW+aAwdkAe9GdQmaAYYwMZceY8CsRXZhQYZaMlP8vhIGowIzDK0wGhzYITOx7pGcl+52t6pBSE5ppEBCK2NXDaboLEYsz/6Nd//NExEgR6PZsANPScJcBJAOkwR1gIdMPEBYlMWJA4GMJCnhMKBFEhr0xD4XMYrEQg0i5MTpSTE+s6jXjCoWho1cFrkzR8q4iZOEgWiSTJBx+/9aWpqVrRgNsAo8yarNp//NExFMSIO5wANvScAELH5MOGKmACHDAh1nyow5FVh+iBcjzY4BYnGJO9YnG9ZI3KZbGWsHTceiUEAgZAAbBs+D9n/Rc2ZSrr//6lVmjPYX3CJKZMwAFoOQtKLmuiy1o//NExF0SEO5oANvGcKA1lToixGVxxadWrrs3tfpn+X1znnYtIicLVIx0Maz9s1cqJjRIrIX///sffGIQjjWyjcsDM0Ev2Hv40R6y3CZPnr2Lq1pBkpYkWRN9bmSXgIRA//NExGcQaPZoANMGcNAqgRPY8JPW+tZ2uSKkSoKrBWSBr/+v7EBqrXU4eAHEtxzjQEKJAgpRitkRrisMFZFEtYPQaeZSgXbAxYKBRLD9epkzOrEi4J0NDSuBhZHSfckU//NExHgQGHJUANPMSNx6szrGW+WcI7jSdb51Iqo8IeMhBUfAuPg4xZFD+XA+yZEos/PwynWf3uk/Rw+xj55ZNmyPd8yj+9sR+XM2V9E/+860vbX8S6hb5l/1txv8Ubo///NExIoRmDI4AN4eAOzXmetf+HUCLfvtah8MyoHXcj/cROtf6af/A9JEHQ4uM3UWxlQ6byJkMFwCPw2sMQATYy/yfcTufcUOIgGSCgyAflw0Z7kDICT6yZNf5cQZBBBU//NExJYTaCI0AVsYAapfIGbGJe/5ggT6mQ3SKBsTZNkDQc5//t9DmKzpodejQZH///ppuTiDE+m+tSKRxFA6Ylonh7LpkrLZNJdlIjcI3op/qwiRRNFagoafqWkNvZF0//NExJsgKyqEAZiIAIRJpUqg4jQH6DvJuW0n66N1ClafyhMuBD1ajuBAePI7/cdgdYznHxXcOzy0kCLE9641Azf0+q41bOouZKY3a8WHvWt3xfw/j/yatrFLaze97a9N//NExG0hsvKUAcl4AX1//T/Gf8Z//9/n/H/+9biX3TNLZhvM34zycXbJDsqDZo4DD2oRa2q6tJLEgR2BlmXrH1ZoaHBzblgNWgxbR2tr1OppeyxkJH1VDl0roLlZmZYW//NExDke8k6YAEvMuWNuHiwSeiBlpqTPMSwYun3bfKfENj/f9p4D4fiRu5ubU8z78JVTM9PG37+87VJw632ADefpsS488xKv3xZao7GJrnb4uYsIJXPgtBOwdpa5IRTB//NExBAU6UakAMGYcBPLt0HibdOj0EknSJt0+0KCnDskh+lTnB8dadv8fxqVi67tvvWZtaN7dtP3m8st3Ci2fVQWChX/ljdfZ2JV/oQhlCNdr1iSwPMrYWFFZ/EwSwaO//NExA8VSVagANPWlObovl9x3mK6wvfwJ8sMTrj+JHqw6qdC0oRwP1aajzBPiFVFxCoj0bOT7X+PdUqNRZbF2yudaXuctf//09RJgEQapRXHf/Sqppgd+Hn40KRDy1gE//NExAwRIUqkAMrUlMD25vXIfuHsoa91al7Dsu9Jf5gXDU0FhOXgWJh0KwsDwGRQWGJ015v1ZlZrzWiq0ey3///i4rb+inHiZ0+AkYkAX+LDNzCgb5vquaXTEPW+Xct4//NExBoSYUaIAVlYAP44/zXt21zWipZJOjyAiCKO4EIEYfgQiOawbNbE1z/y2uv/a2UVrDv////////hqnYIVF2F3L5T6htkskkNCtPHXeOE9n3GkXwWzrfjqJOMs0af//NExCMbWyqAAZhoAE2uugZmAyg5gT9/tvcN0L+XAVwTcvf+1oiyUGHJUwMw4P/v+S49B5DkNEh6LLP///zhKEMuLKyXMC0cBQT/////059qamQaXC4SlZMEwaC2RD0i//NExAgSiWKwAcooACAxdet/rsViU/1RMmzs10dG8k5ChARV7jjmqYwpUowqVnjYjQA3hUXLseTGlAYFmlzInMpCADFXsKJZSiphrX1+9CrtlJYGDTqlIXOTCgV4FcSz//NExBAR4VK0AMJMlBz7qhJ/DPD1bGZe+9/ncyhJMQAgbTbl2QjIzIiHu8u1Cwt73se9pkHTA04E5s9+CrP/fcyeqZla3qnOcq35JDGOwCNbxHKrflRXk9qinm6NRTeX//NExBsReV60AMtSlF5XTUIy7CKFM2MRyGNMfWaoVGOq+oAkpJwvdtQ5DJOwMk81AbfaTv//+5f/kpwE0dYcPbSlg00IR4ukr9nAeV+yedNH5qomeVzj36PMdjoDSk5I//NExCgSIV60AMsSlEBv1h4xfMeRE64gRipMxHku3m/3apC+SIlfJZH1///+tebjhmtOpbZCNURSJDlhNXRdln7czfy/4d/wnD9TRPln3BQ1C46lFoxtTI9xoCof2xA6//NExDISAVa0AMvQlIHbzjbqa2Or/0dyTHIFhfAyf//+hhHeUsAmJWI1sqgEgLTHbBvg/NlLIs3YqAd+iVFPnM3YXuJy8Y3MCL8ZiCSPAFDtK4cUFEYs0u2S5YpZz//r//NExD0R4VaoAMsSlW3W//1bvI4hy2WFWsnYZFIfWgJJ12ozGXICIKqqVgzNjgGUsDlCUvQ5dqnen1rKWMxWbl2cIqELCxcSgqBLFgFMsypCttLIV2WbQ4N75K4p3Fgm//NExEgSIPJ4ANPScZUZBzChQHEh61eZmEmFgZdkwgHXBYMEEzCgF5Kezzcptayy/H8tt3eB2gYoiJEBRo048Jc2mLy2s9GWo4F3K26UAFJ7//T///QqVMLd48qmUhhu//NExFISCPJUAVswADSlAooXKldtfAgUAQ7n1LAKGFb+aKNAXBCYTDRWThmblcmRgi3BiJFuhNT5oHQhdWDVDph8qX5oYpm6pGxlCaK5EP/0GQM0ybOEDJH/6ez5NpE4//NExFwgiypoAZuAAEXWWThmZ//7Lvp7HDsukTNiBlAvOsz////f+TCORQk3LhgsuLN1VRFC4RkNRX923tM85Y5La9o/JY/nolr6BwHIL2DhRrKNOFKd6lLQypro8XIM//NExCwUQXKgAcxAAIFBojx8zJBku9PFJWhZI+ohEWBeBOBDhz9b6gQGqpvGGch//5ccw9XbedDX7qCQcaGWfydIhZqE/Z+G0S3//f/2rY17Gqt9QyXmtvKz7rt8ay2Y//NExC4Q8YKsABGMlLqmzb07h1726aUjHh9nQGkucxtP/6XCsFkKQqPpFJRLOyun7K59HPhQwCwMB5gApMXFBZUQEwtBJ3j575/b9blYd/VchiR9m+F8OlzjfSvGa1aF//NExD0RqZasAMJGlNQSGde7T/R+0NrcEAHoSbBmxF0gWwsEY31NOvo6QTNwC0CknuBDcBgDxPwI4iSjJvoELiepZ2o5Vnvcha8sfGp4kzMntG+DHXv3z1+dWAwFszc5//NExEkSYRK0AHvScSrVxeRoQe529okMu5mrHGhEgCr2OdNLsjCgJ8eDER6wZpdHBRKh6793DUnxnWPq6njOwug0opwg7CyWIX8yVNYjFiC9v1Nj8gE0YjeOSKwl42nT//NExFIReWbAAHvGlc4JcXNdF5kFdHWmRwoXBLi0nMrjlILZDSCmW0qlwi2o22tD36WqGpWPqRZ5xE1g6Tvy38t/n8buqjYhLBBp5x2x4mLS28xWnGKrIpxsSnMAfRp6//NExF8ScWLAAHvMlYqq1AS7Ermd6hsZOqFaVqsONlULPBiMcGSuMz7K7jShdkpJDjvqP2WuK79nnUYr/cgtHndV3XIHgNtIhJU1YCy2FoegKq/aaUk2AQluiSeyyt5r//NExGgSUWq8AMPMlaTmJskmp0O1zkBItgMnml3QrTcqxgNjSTYDoInXi+mKv4/Zmb2O1KoquPuDCA2SDkMmIP+wgBHufgenpgxz081/zMy797t6i5xoKxHMFw8xAHVZ//NExHERiVKoAMMQlY6GTCRBC/+Xb9zNy7sNDooLBAWDli2JGs/T//rZ//9FypRkh1jA1IAVKcQYgJFj3Ktz7Hce8/LMzLl9Yc2q/at3WnyhKFgGFBJXUTABhwGPlAHJ//NExH0SaUKkAMmQcI0efjPlIKab+XR5NiZgIYeTzeXGfnCxK6UQxqE0qdoQ9K/me+iPz3L9tj4bpM4U8e93Ojehb9rG0/XlGeEeChJtYXEkVDCRY+x833nqcKlP1JhC//NExIYRMVKwAMMMlXkaqFvSSsexk4x2kriJmsPlKDfAXm5ujxklVqnr96YLrgP9aYBTzGb0QXKb5pFbkOi1yxYYgHR1piOLdbJROf+58025c/cU3tXlq1wquVXbPmot//NExJQRmU6wAMvSlThkMVTJ4kNz7sIxYnJ6AXwAxZ2wbMEM8J8EDIhQixNjmS8StW2LjMHWcxcevuMFlUAnU44jP+mvSw1joCrEBap43OEZycsMjwiOAYFBkOIECBwU//NExKARoVaoANPWlTECMMAVJwRNPtklc4ha5GpVdBVIl1ZU/wYriIqhlX/1KyGMtDkdv//dSlYSAQND////qjITYp+TRh4Dz5KygNmPlIDbYQ4E2NMJTNQUwEKLhmBA//NExKwRUVacANPKlCli/LX4LBtYPuMiNYeiArGNKgnYl3UYmVA0PLUfQOHi8hSpp3RYvk7dFR1tF2WlU6Z4zQSTadUtSmoshZLX206T2XqQQd9dXTdtFBGhtpVJfp3q//NExLkRcUaMAVsoAGakmkzMpGiipujnFb7V/6IrqToKL7p8JVCSgxS45RZnMCr2XIkAAibOKJhsplzqkWCwAWmB8INgoDgSJjkAJ82NKw5MYpIE+B1Qeqbm7qfY0dNZ//NExMYhospUAZuAAfOFYuGNvdCm7F0n9l+n1IJHU31GpmkitNvzUmDd3fWYponlWf/9au1fQQWpS99FnTTW6Bh61v2OlkvJomqjZjc1SbZrlV5eQZW+zJE87E5LuuiY//NExJIh2waIAZqQARGZp4olUOAJy76aYTIIgQVBiQ9JKGquVxGBQSJhF/RUBKxOH1LTdtLMQgGJAKiMO22+e30osYm2+WrGfY+29mo5E/76SWtKYHs9w19e3/0mvyt///NExF0e0W6QAdvIAPDndPHCs6r93c5i9+7f//q/VAZaMF0Vw8Rs/+/pQhWW0zST7MIRFgQCDm7yqGgeaAjLyExYoky5MkywaAodBMW1miUY8anihOh+aUY4BmwmCA6E//NExDQeqnKcANYUuFLEN48g2If8BX8oLga/i629vg1evSJE27bcL3dzn+DBIrjuDcWYHwsD44CAgh4YyCwfX/////pzbmOiv+uruxeeUt//RS5a/GPG+7PaKhScVpnw//NExAwU+WKwAM4alFQY1MisbJc3gDu0dtmsjwaLLtV1fWMSUCcdqkSDq6q2/97efN9+6SjSRTnBvdQbRcWPyd09MoaWTVzo2IS8aMcN5f///3lf1cdTJo9VuEiNaVvB//NExAsSiV60AMPOlNa/NF+XvqZwl8Rh3RumTa+CQzdTBdbsCZaYaLcvlLay379BFZBwvPHpURwRVwmzaGCTrlTMmWyOUeT////9dKqvbHAGTK3G4JhPuqRClmsEi7Cb//NExBMRsP6sAMPWcCOgro6qNahmnVrLhtV0eIrlU4gRABHjXhU1bVV6R7c70a0TrWmzx4wqRDfEolFTpX///6IvcnSZuofvgRAkmTAHUFS70kMyIWcxF/pd2Uxmm/Ce//NExB8SYPJwAVp4ANxKNXb0FOxGdxhIkXFSQH9LxaYtvf//i1znUGsHQMgkSNbK3CAkMedd/ooHEAeICx4BBTEDjZgVd1mgTokPL8b3z5ykUtVmGEEsEonVm1FagKOP//NExCgb0yJwAZpoADTJBf18SwZA4ByI71dPjCCWDwJMYcp/X/oIl8FsHhAb///5DQDnn4XgYQlG////JM3LhcYlEGLiJuOf/////L6dTEohUXGNKg+VGuFwfCQ7ZLaq//NExAsS8i60AYwYAMmv/olApz/DN1yN6rR6VWn5gxDWwEIqZHM+rSuVzsFabkf//tPrwtGAmrffv5+XXLy9Ps8gxpOn0rz4g1LZDq+qmIwARB8x+waC1RNMAikwqRam//NExBIR2UqgAdlIAPLq8/jT09XLV2f7dt9pBiNZMjbzoEwTJ215ElJk6NSelDHyewz//+p7CH86/pTF4qOf///zFbcEhWllrZBJnRKGCQJaQjlYMCTpnNmO2X2CDVyW//NExB0Q0TqsAMpWcSRxgybJmB2hikQg/G5K5JjjUd1lRqaKWxdrv9/DLm++880JAsK1leWihinOY+uuVDj0L6fBQKzD/KtGG+btXgVy1xe63Zpy3upTvcGcZ2jvZJEn//NExCwROVKwAMPWlUfh6o6HCoRIeTmUtEfXFzPt3pSqccldn476gBlGE70vI+KtRFkoX9FoDkWZ27KnV6nT722uSfdh9ec1U2KgDRPAmHrh2+rEkqfDKomPHwqdNmXS//NExDoSWVawAMMSlc//2cKnm3fVVkyZi9tgipW5DAUa+6R5ERrBEmcYeBwwh9L93XzG69FhZ+vrzdtnWI2nUm5SfEsgmB6gmrGsJpOQNpLCo4bZ9v9Rx3/06HPtSwqP//NExEMR8U60AVhYAEHP//+lBmgvEK6FAF1wEETkB6DKAd0BNLQrhhuQan4yLUe5JkskXTI2Lw+kuTwb58nmYxTVAnCag9rPkucUYqWdpIsiPcbikimo8UUKKKR09e6j//NExE4ggxqkAZhoAQPn2T3WYoq3W9k3//eyegtM0Lh4v/9en29N2L5fYzM7sbvMP//+nQdTJv0GN00zy0zRbY8CEDQqJJFQJg7LXdZ7/2/+u31///////bb+72Q55ko//NExB8YuyK4AYs4AWaFEKqkfMx0mYjnDg/OPMuceODxMw8eFxxBBRHTWJFhwTD7jRzlU3YfImkGM0JOxdiRw4eaVRsdGglnHlhELC4JDiAErVf///////////////7L//NExA8SIyLAAcEoAERNnKxqurmMzzvOUwiZUmcyOYjshSoVCCIdIc7Ohh7uw9yuGupBwkGjQ5ExchmKExBhcXEg6ggJj2oX////////n/bqHKkZMuz8uOssxKdSCCaq//NExBkSexq4AAgQvA7irZ6KpZD5CnEG5xlNAiOLDS2UOzg6hjCcgk8UEEG9oJCgjMEcQxCFBCG1Y5CUJpNf///////+/////3nfzsZuxD+38mA5GI6D0yy7gj+TGkyU//NExCIRWxq8AAgMvTI195pHWKznOnIOQe75ApBzaVrNsmrByZyjiL6kMdSBqR6c6mv////l/LX///////7Nf5LqyOxmHSbIrKisLkokpEcyRxSUVlEjEVgmKnPOyGcz//NExC8R0xLAAAhKuSlMYSMKiDOwuUMUIKjoYSRWZ3MJqpCCw2rPEgLBp6bzSK9T8X+ckReueeM1//z5l////953nl/P8uzMtmjlzBCqVLh4UbPWNszMbFHUmpK1KNS///NExDoRMua4AEBGublsKlY6qlG5kGZeylI4whO4i00D3lk5fdMZmIBKoXicDobgDjdSuJmgUAY2cCAWS0BxS0eTWk2n535m9XoRFtEGfoKHI2TV1D7qBNTxMfOXp/////NExEgSeWqsAMMKlP/T+yjMPnyd4RICzOlQalrAJRZ1KCGl9hFRvqNAtYWGTDImhTBULJkZV5shtOH61astn5XQtKEKD5xwTvXKNYmwqLIcTKniP////1LCohzDyou8//NExFESaVqwAMxOlAjbUk5Cbm9BizJmRsCgwu8qCVjDWHUBSJoLOAVmViGhsptH55Zbao/tndNWroVytBAyjov3lDUhMyCW0ceVrsZoqoqGVY2PJT8UIBp5qpg2rNiQ//NExFoRcWqsAMzOlDfA7RqHXNnApQpc8A9wCmK5fHKSOlvO/Tep61f3/n740V8/dLGBF2h+IWeTCYJo/pNCPI3eiqkmzZQ5utt/xJsmEZyATr1wRsUhWhBiLh+4DZCz//NExGcR6WqsAMyMlYBwAH6UxyxkSqXC060HfU2p//ojO9dEYXCMcJMqkVRcOCTjjOkcX5rCbGYp8zSCWTzCKE4jIbFpihcJd4UEGrBUy+GzihhygDIQeGXBaSwXSTKp//NExHIRwWKwAMSKlXDpjbuq37/fl+ruOKOBzFdSj4kOMMRBeg5etb80UJoYDGvT7V3lYGaSLXM9V4KrhZMPoTwH7B04auBvojEAigW4NqHCRclyZc8pleq6/XXRr7W2//NExH4RYWKwAMQKlKuYDwsfacWUXKcRAwsqOz7tpaYe3BRgAr5maTM6jgxsL5ZZLAc1gKp2aoPrgQcGFhZ5hGNNjD6wVGat+9ez7//3uGs////rva9HrScDQ46VRA6o//NExIsSMUqsAMSKlXxU4kMVOpV/VeIfiwUrCS3eERMJCgCuSEcFTIvArlbKE580U42pVKga9VIcMaArteCWw5R2sa/49/99/f8/f6PLmW1vD29BJmJwtWhoDEoRNrQ1//NExJUSkVaoAMYKlTtmitV/hhKaIEVDZjliyzIjm5gaczox0gSFmJUiyUsDxpqs67mwiYVAxQSDZxehgrmldt5Y/ZxptZdx/Dtbv73+u668JSQ4x1GhsAqCZMuBjCky//NExJ0TUWKgAM4GlQMSSjZAiAYc///+uxIqK0JN0YgnoMliKeZyAEIcRMcNMQRAJUACQwyj6oLByGoceI5RMQvS8HCX8FwWIvRouDTBnmxnH/rr///+upH/SChYelLW//NExKIXqVqIANYGlMh+XcHYYMiyW/VGDSP///06SN2+unQNVfOYtNIBOOoFhbTAwEpmG8E6d7cjnyu6ebGZ+yHkjVMDaE2Jzhu2CoKmRF1ufQSUOB163CLrqDpkGitD//NExJYV4YJ0ANPGlD//7v6dLOs90TPOgIGFg7EEBo4tJRRICbhcnPdL0hQ3zIVAsjICFCZpD16Bsk0ebfaJbTb/WbXnhVpL29tzqPWiq7rTb60c5ooCnzZABoEYmIzN//NExJERQH5cANPeSCmJEh1iWeuXKqwMwJnTNjRKL0P24jMwOYYgbecKkWvoXGqQ63SZeLFp0hap6nLpWkt3PrZKquwIvaLwXjbqwMNxCGJ2qsh/lvG1j+VtQrvdUJTA//NExJ8QYH5EAMvSSPDYgrlxY4gWSxKyL7FDLffWSW4muxLAqBFLfOayT0PrYtjO8iVuKdQueUI52ZaPGZEQtKgLQld3gD9jK60QYxqLLcgs3NxujqEsEpjpN0HTDuDB//NExLARcF44ANGGKCgKTGUBu0OoIKbLcLm0hzg2wnxCQGuLgD+kM75GE6lL6jQwKpcHSX/6DaFRNlBZUNiqe/5cQQTrPtLBcIsWy2kkiZ//oIfqQbNDFGt92b//6D7p//NExL0RgDo4AVsYAKndBkzfdB2dR50C2sumpeo4BN3GklFYko2FTy7yyVlEEW1QNiRKA2qxQKFRvi2R2tSocwthGD8P1RMq8abs/EY0yun6L3lumh7xfc0jC54ngYeR//NExMohoyqIAY+AADx49K1tezyLDzrc1bagb+dbaoEFjh+DiW+MfcCBq292+q5/z9Z/pv5xT4p/r5+tf51/9Uzj+/39w0iAdmwKOfBU/dPaHAiiJ7FPLbiKxjJmHNjz//NExJYhoqaYAcl4ASEKpYOQuSfUgnjIYShMpY59qpYZUYqo69SDHexIsJsb5d1tqEo+GcUGI4oIBBaKeilCkjkcQI5Bog+tGF0FChQTn0aKDEux5yIvFxets+Xb87t1//NExGIeMiagADPQmeYEAIcipp76U/u4GNSrtO1p4Xv36z9eYfwTsc6p3eYKRYxUhZShHR5LQiIdQPC0fhcIwpHzUR2QfPW3T1utSVDpXx724qQobxNbxg+WvXHhxjSU//NExDwdMkKkAGsQudTQ+7PPs5i5QkepjCCMIBTQflmEsQKIPu4ckzdZRqm2pOO+mcdC9RVFZEhl7uCFcP37sqa3e/W39twgAiJj6bVX1JNh5iHYjBEVCIEI0CIZjxUu//NExBoV0YawAHsMlKJc+wbXjTqrqVVrwf/b+JRRr01jkxzQ4avb+n1mb+Wdnn/Ecx1GxmGkQuZB4TCqzQeIu18kVEN96cVUt0Vquxg0jwbxV4eJtjR8SAcdDkVafO+G//NExBUREPq8AU9gAUARqfJsoKGOdgXOCoPL6Y1bMP5Ze9Jv80++TuXtNVzUT4fzNYXP7Tt4F7B0dzXZ6iU7JSQJeZ+SYywz8tLgZWBsywyPavVrqBssCuAbRIAeQOkU//NExCMamXa8AZh4AGE2CcE3HiEqOXQSoIgy2YG6EbbFEy4lo+ZY0j+I9ntEfwnz2DNGixnB1GmlkZGBvjWtL4MClcSwaQ821Hls8kCvU3hv/X/9FSYCTiCNoUQ3Hxtm//NExAsTySLIAY94AZnDzuNwdCZJMZy4hC4RRSC4J5TpYuQwDobYh+H4nI6NOGL77vjWNelJb61jGo0TMO0lI+NelLy5RKgCfw8YoDlwD//9qhlBHGIUB3hBTAFfSqkG//NExA4V0XLEAY94AOiyEbFlIAJEhYySxIIlxwlagVMcZ6k1GKoZoY6U1QtxzqncmN7tb3zmNq9ra1FjWhb3DtaeHmFLNC3vdNU181pBr/WlYsjv//pqy4MlX7KUlYvV//NExAkSMUq8Adh4AXNnYkiHK3BVglr6tOpX1gSUuzC845J2ElKF0G8hj5P38Knj7tr+/xv2pin9qQn8949rbtumq//GM2zNgYXQo1L7pJC8t90SIOoVTGTy4KQQ5ZYG//NExBMSeV6wAMvMlLDeS1x0VM8MuHkJ1PsqosAU1LqVOR6PdwZNWv825yfZDnZglnEO+bysZ/67X5QotVMvEP///9WpkQdln1yLeZCImVUC4BrG3RQiIxHhjKW0xJ+O//NExBwRgWKwAMPGlZ0885OVbXQxkYwq5khM94M18ZvVDZhGCAAwMDAQSNnza6/3WOKjinQTF8aww0HsswWhleZkfDPlBgGvPUwfDUyMqpaeEl9MKGRGI6nSdHyg3r1g//NExCkQUOawAMPecXr1z2+vqtqQn971eWlDaX/uFf/mFBwuXNXDGGTwDd+VGQO18v+ZoKND+N5J84/LNXJTzkZw1KbBmZF1M8PU+ZjYOU0DqMiRS5dNSBNQYepskZlF//NExDoSUVasAVloAI6gk7+tf67IvPNOq///+pUK3HQWSoGZSHDhoZlUhjwQwuUiMXO/MWuT09LE2ootodY7yecBKBPNUjdA6mO8nj6Tbodw6jrXnkgIwRyEKTNJCJbP//NExEMdqnKMAZlYALIqQTB8LDAPA+bHct65r8lk+00z9Od8/z///L99m7/////////+0GMQYgaUc//8MAgcdKJJ8oOIUxKIgdUQbR1Cy6EkmWOUK3xttuzdp7UexlLV//NExB8YyY6sAZl4AIseJt3DiTTra+o7PpYHfvocCYrITk+ZZqU+3sCN/ruKovS2b9+1Y+9Z3v/NIO33/j2/nwoAsKN/Az3HRLj2enZctjv11bMRhwDs4tZGHVnuMzw9//NExA4SSV6wAdl4AAFPqrDFjVC63OUuX7tdyYd9cuW9NWNL8BXRhAlThD3LEp55xHi5hKutDvn+cf71mX/5/3NnLBjtsbfjqt/NC1rPxwihF2DDhgJ/4lZ8p4X7c5/M//NExBcSgVqwANPSlE/hM/lVlPK4blSmJRHYGkSeTJKKQbmqLb1hW8qBxJl34w/jv9fq1lmUEUl5ljn///WLE/1NgsmR1CqXA1K2M4tR4Ox2fdQxiPl7ONkk0nLrK8nC//NExCARGVqwAMtWlFbmIGCU3OhlViiNdwXW55DzQ3/r8JLc18e0m26SztJyP//+cXXHOIGnTN5LhgKJRJUsEFtyFVLlGNxfx2vOG9Y/tSFu8xPXEAdQUIchIyAMwSkF//NExC4SqU6oANNWlCByoItdggU8PruTt8Fv98H/KiH6HtYhkf//7rii5ybMKmv8cHqb0dGq0CV/C7rLe5e8LfxG+Hu/Dif6z8R9XbywzMaOHSoNgDLEB5tAdic5Wt6l//NExDYQQU6wAMvWlcMPd3f1sonWw6Uyn6RTs68EIr5e1H2HFATQLWqFIktNCe8y1VrnEtk1G2TntR1SnuQBKFJwZiKwOQEj5gyOo+XCUQjD3pFAYBoGlr///0ILVQoB//NExEgRSPKcAMmYcK+gsYnbOYOEeCQigGQeGQAysoFg52b1UowAhzr/+uhjWERUzqg0THSaMBUYCoeqPV3xftd/X/TC0MjRjqUEnBg4CCg8+3+BhEWkC4UnW0mVluXM//NExFUPsUpoANlQlJd+X/v//////7aavdkQodCAMFiIrFkcylKOYzFFQ0JRYqJTBZ63K7/O/HIpQdKJXIRpR07x2dzd+8iRc/jvHeT4ed/1je9FJqn/xXBxpqcov//P//NExGkQKQpMAVsoAOxCnybJEGdNv/9lHyEHsf3j0DZ8EkPJOHd//+bnx2Ghwdb7OC80FNig1DtIE7////TF0GGlY7CYcsmD8egeTrWDsOSn//////cMtjD9//vNCW4m//NExHsgayKQAY9YAQ+GVGjmptUhy51//////W7Vya37Euc5UDg11EC3OcxARw6DhYw0ooRk2RVOhlVn2Ywo8SIahZkJiwVafOGBAg5LqSIluVAvouUqQWcAK7L///+i//NExEwQidK4AcEoAP+5JZ+7dm7eW/+8/ihhNErUanENrKWhUgKWv77xMaDeTh+2Gus799gbh9bjU0mRZYuXoFv/vdut7tc533O/KqxwHwBJuQn4A/UwwwrIMk35CEPV//NExFwR4Ya0ABBMldren/kZAhHR04n56bO3l/Js2TNODnIz3PzOi5aOLYSnaqunRs/QU3dd//+xdZmVBaILKrZEBHi0ClvRYbKmyXtXaeN9oE3Y/eehD5dc1zKdlJ8q//NExGcQGV6wAHiMlCWsKY+OXNpJ4tAsdl5fBrc5O1a5V2NuwncJSJv////9//71KvUSMDvAE6KrGDtSxEyjGThZzLiztmTDjsGVCF64hI5cVxk/rXmXOl+rMLJJOVod//NExHkSSVKoANLMlD1ByYeYnXo2l13D7DJ0Nh0JBURRF///8vXbsGN0R6AVKzHQcWoGVgVbWVJgqNIzJZu20Sj+ERe10POPoZ8QmKEaz/Zjqm02H2g2Rt3G8WD74h4S//NExIIR2O6QANsYcHbShlXaKj/3f//STe3841SMZiEsB/JBZUWyaIfswAxGjiWw+B4uwHnQtyDuT1H9WpeGlUpFLrf19XzDglHIXuUXya286cYKyfK1xLIP28oh//////NExI0SeO6EANvScOks79S6j8bBhACRI9gWJIGYj8EIRBwttSAmhYtKjzpIe5Vhrmb7XpU021VlH+tydUHVjf/i9LwlIUPQjYr3MAPau1P///ypAi5HxtWAoLGVg6Yn//NExJYR4QqIANvWcJGISMBSMOhUdW/MLIA7w9nD8A63uOtbE2KSc9TZkzqUqFZGZfNIacCjjhgsoXX9Snf0Oup/yE4dSIPF3nDi0XHP/0KeCgiGqoQ0xYaE2tB1musW//NExKERiQaIAOYQcNf//////////+877z1/UxPXakgCBxkbO+QXOdXEG6nOhDyB8PufEAIKHUPi5zxAOPIRpBQhznOehCCZcPfACxICys6Mrkb//x/4EbID/Ll/yTL7//NExK0SaOqMANsKcDIzB4fwvp0vUPfXnU2oI5kezqUeXIFV5OgpBEeWNEdauTam2oT0bNEGESyhYN4M0oUEInIlkSqNhIKhYUqtFyV8WiUBiqDTjOuRF2yKKzaIqMFZ//NExLYTgvqsAHhKuTk9VeorpG3VhhAAEEGF2ygIMBccsIAgQcliihwTqDBFn+u/9eSxnvbSs6kNpBSaAoiHBUNnXngacos2WIxE4i1agLvVU95ZFarKqwo4FZ2YEJaL//NExLsbyx6wABBSvC6LjG7SJESlGdX9OcETSj15EZqyi1Y9Imtk7jQQzEIoXYms3RbzFk/yds4ejQ+sdHI6/FIdt/jPG9yEcxWr1yX6/aNQWeoRHluCVd4U5xRUKqkB//NExJ4QCDLIABmSANazYeEBKF21RwSTEtsYKI3adJWj09DQfyXjR6U6gXtkkBOWFblWXazF8M5yQ/dA15JM4VDrZBNJ7ESyM7LFSNwWcFS3A5qiDObjfhI1///Rb/VQ//NExLAVGV6wAMvMlMexgpKvlPigVLPSyEVb0eAABOKqh0Gp15cmhfuLYs5yhQKeqJtTuTdAgM7cUVeXJu9JjuCufE0XaVo5IM1TgOs2Jan2KT5Xd1vpl/tL7vMD7Whw//NExK4WuWqsANYWlPSwbPXVK0o4I+NSgLBmLWyAE/XwQNCqbAJIH9U7CcxIZrzYIAjaHYPlwajZWdwlFvobXysvzFLCxWwexVWCx2DMhBapvsLOcIspxWIbP////rWU//NExKYVmWasANYYlb1FRCYjYsC6AYyQsbcZNExiORZeUZlBc5+LBKK3alKgmNRXUitNylG5qm3qvvHKRd3M//cJwaonjBRDiRSgIrKOx5fGGsO4Him5KxAIPonT4aWI//NExKITYV6sANPKlJO788OFGCxd4ELZY+4XTP2hwWFt4Gc3pWhzqx4vopDJwAIOzWQDS7IaSDZg3xp2HAeyMFV1FfNyB3/huknLy8jVKocDx5dYLyS7NFzCvHEm7A7x//NExKcScUqUANYKlSadFkXEgDkd3XZYpbEvQnJdjVaiCLcBSPbw2mnj6oZrYk6C5BwFBAAJPqPdL23/2MWeTItB4OtV/BQ8S9L4IbrYtqr3o4IiQNXBJvZjZjdEMOm9//NExLASeRqcANYQcT14Z7OWUWdMQujHY3EJhn+jrMEXdJR0jLy2LBWaQDgOirm8wyE8/pbi5DOU0Hqy/AlS425pRHroJnUyMgVsyLH1HoyXq04wrc6X2WjyNl9CskK7//NExLkSiVa0AMvMlSRnM+Pyu6RsWe1hvrXm3l249kja1m8lsZ//xnF5II4NCz////VVu7JYZNxgA8FSFURfz4gYaDrTPR1ocLYFttQnrr1za6ZTntGFrBBPRPC5KYLc//NExMESaVK8AMPQlZXkqjpLrK2gFSpGAWKBCpFVdJqr3+XuNwV4d1WrTGJmzdVMyXkSkdAA+6xICbgpDZIEdsd7XSqxK99ZtsLjqFGmXcXNNgCjqQADH1l38trr7rLM//NExMoSSUa8AMPecEuJyNkmrZWjE3WhJLx7fpq+j/WqZ86S2V+gQZQVlTxAkSxW1iwKh6qVftf81s1///6mjVCQyKKNVv17IoEYSEwS3K3S31PCglhIkSDsqKPWdJah//NExNMSEUqwAMsSlc8s+skRU9mj/yPregW5N21VjbAzAUCBjgOEUWWcj0Q1imjUxrd/5ZNWpmlJMOeZe5K4IKCWceaCADseyISWCDPTwQYUC5B8LjkqSF1F70XKpjiz//NExN0SiQacAMvYcKVF71C+W6c1//5n1LpVMrIDRAEUWVM60MoQdOdJQWNlrRKXLbWwev9tHv64v1HIWyqKb8uIRSS5LFooWVRSZNN5GLXk14NHnMZDpJSG3Toq4Kh0//NExOUSgOKMAMIMcF2A08iS2Nc+Kzzt1H6jdOv63KHVDozMDAwxnKgoU4HUVZOmC/7i1gZSlvfU/RyVWesyWxCxILOn8zpCgUkSJJzImo6d1r6cw93tw70aYy3/7Kpz//NExO4VIQ5cAMvMcNY41sDg4LoaPwqIGPijLpI6PKK5leuKqV9jEu0QGTRBEV2KiotGS2VYCdTI2vMIBH3G9aP8eS9IlJI8Y9n8wbTLiLZSJypj/DJox13vDMKePAz1//NExOwWWRpQAMrScKm0jSXudLNeyZ/P9OnJ3s1wfnUDG5EAC6ADQ8FtEBRkyskTx5C2pdTLTrvlLpVGq79m6Tn3dbst2NnsyKjnoWa6bO5PGWp2OGEel520KBwkpQ4V//NExOUP+PpAAMlGcLRMsXLqY86kwL17mJz441WqVb1orwDLl6fyJqenUIf+B5Y+i7uaA6w3ysKqFV8jJl86CckYtH/5EGASHePMbkkjwW78wMRzl0l3MBGRxF0ujz/o//NExPgZGiosANjGmRcJQp6ZfMTxmfJIe//TdRcNDd2YjF5IvkYgkIoF3/8zNy4XDQuD0KBcaeKyYcMTFyoQU2KZoTf//MzdFNy4g3JRFPJpgQCiP6TnR7mpqiUDlYnD//NExOYUCYI0AVUQAKWGRshK5JeaNKgkRrNxOAhlHoKAlu1Kr5xVrDmRqcpZqnjdIhigjumdyVqFszc3sZbAzyTkgDvMddkwQip+TamZ4a6MSMfheLadZw2RcMEXFPuk//NExOgkmyqIAZhoANbWW6K8exlZFhMmo0fmV//+guEz6O6u3q1dyKLV2MSbpIiI1xsQ8NJ/mLHTKVZyV69ooAUMTtJPQ51kSzLzxQP3GFX5IxOfyZVLLssn82ZVJQVQ//NExKgdQXKcAdp4AAkeDyoAM+vSCmxqM9h/v5zqUb5C1jjiLAsMUkSSLldNb+FNe0eJRRKx4iYERJqx5lw1DBgZ//+lB16tT00f/5Z5HIqHpYj+UhSnL+mTC7K3kMsB//NExIYdaW6cANYelMmN5sUHyIf0z6A8ppLeT3F9WNvDP5QS1LfGI2ok1qfmkESvI8nMCzsug0LBebIF0YjeK6Q+LkvbacoHxxnLq55a6Pj+zvLv1krU7VtinL3BTpoO//NExGMeQXaYAN4elKdOx4VY/En//0NC4cQ+9M4P//7u9ZSIwUQHwAodGOGZOPa1sqWlgoSQDSYlf0jHP5oeUnKeEbjtrUyyy9pW6Wbm5HthS3akGg1DZuiqnIooulxy//NExD0b8iacANYUmDrQq+3QsDwAuJp4wE9iEWCQ4KZlHpJQkYhGRaJA8YK5IxAId3Jtf/////8pcikv3f/+Vqmb+AeWHILGGXXe4VUJgcnhTAopUNVebGJqCy7ywuGr//NExCAUqWasAMvYlDr1VrP11puLc9hl9CcW8PzoUpQ845WUxOkJIirnJrmXpV3Omcy9IlsEdmbs9HLBf///Ve4qND5cOZJWI1QQMkDwdR/ILs2LgulI/1zp6lXacZN+//NExCAQSVasAMsKlcGVEiph0AJHIFg+lhsMUBh8OB1SAKGKIiurZf9HZi412Kpk6cwCcIMGCpEUx6LtAFgKKPVckWYOpjQlPZYW5RWjq2aEczi3IcomY/SyYsHNSoFS//NExDESSPZ4AMPYcBxH56w61WOVukk9lKa1Yeryz88RFgVY5VV+y4SAc7dURikTzKE2zKKphKBMSJB49JKq7aRkpE1BdLGIVJxSkLohEuKTEOtrMlWU2rOV2oRQXVRg//NExDoRgPZQANIScNLWCtun///////06z9ggz8OITqOEdV0v7TS5pLLZ2aLkzRo5y1VqbK2QZy5bZyqZnZ8rnyLqIodWi6dpt2by0O9vYefrY/9Vae2tPZUPCKhIfDg//NExEcQOPZAANBMcFGj9HyLSPct+57TAwcTFzilHFqawQQWLGhRbHvVcbbJJcmdbQLFS8Vda2so5SsW2T8jS9W91VD02mla9ekOohoylOOcxRRWwWOl8vWs0aCW465A//NExFkRMDI8AVsYAHTw1PtjHBayGABWABGC1PwHQJQgPcAsxDj+LXZ0Bg2GkewxzgnpLjmKSHx4khY4eJcfjIimJZ/WbvTSPnzI4bmCBv/2Ta6kVSi5gaIKUdXt/zcv//NExGcgElqEAZloAJqt1LZ1uggm6ButZ4HP9Z0PoBZItCGKwgYqL5dNd7c/f6tLspE/OlUwPB/LIPRk8lAMOHUcIeZ1Rs6xjaPKUuXjFSFMKdOoqRYnUE3wxsq+50xO//NExDkY2YaoAcxIAfUbeSYRpEaJpyzp0gF3Wn75arr5+vMScw0HqyD3NMX8xV1v/zLlki2vvPVl5b9QakteYNNLQgI3JGWGBQF8YpSTA3i0rbx9eOpC7WYYMrWlJ4h///NExCgRaYK4ABIMlF/m+lM+NmpMgjnhJyAka06tlT1qQihI1Z9Ah///UjGceZFrgrClCLbs0oSokkhknBYVC5o3NzbU9zb+7cdY6ZbprColFIqHVB3rfDfsdDmmrZDC//NExDUTAZa0ABpQlCod93cLmGQVjBKMTuqkiIy9CQ5JEaXrzzgo0YDqXY8wx1KlC1uXyydL+j5F0QRGw0gLgnH6INM3z9RZzqvJc1HEXk48ZHCLW190cXaHc2QIoYAC//NExDwWWY6sAMPGlGYu9v2F82iZU8jZgUTBHYCUP87Wd9eYXQtDlWLitbOVEc0jVZdMlApN7IB8EplIXOnhdsEsuSqVDynVvVEu5FdgNvJdtWVokDTKpmK2G5qD5/NZ//NExDUZEXqsAMYYlGWZD++FWdHsIlrqQzdqntmIbVsUdM2nHI81ussM91o61WA6TO/7vXni7Qi6qypSVdaj4W+2+EwUB5WFEJM/dQxe0YjNdWa0DXFlV8pHX0qL6qXF//NExCMSkWq4AMPQlMbmyTqPAKBp1oOLw4C1QEI9SwXX015B3J9d36X6X2P/No///m3J+hXtV9jGsS6lrMgNHR4mKgPOW7i8iEyAxMxG3OH1yJnDFVTVkBNjgfS8twJy//NExCsRwV6sAMtalKDaJRyoRScfSMa1XUU03OpaL5trR2N5Wj//+urG2+howESk89IhUjMdLqk2uWMFNOEtsrlCfctQffiCJ5wMFnMBvpLYVmjSbOiSLVGqbD6OBoxT//NExDcREVqoAMqalO0wzpcrJyeTjhb///rV1NM9MPRWrmOBAFpk0w9Q0Bw+g1FmeS0JY+0wj9BQSisHTFQCxAaUARq1Crrbh78po6FKAQCnIOa7ZAmogKIkmNSV///8//NExEUSQVqoANHSlFv//+ndK4R+JJRQyQtAcuHrLF2o9+vlS2R5fMJZP8m0qNJ4HiSdsD5bpuuzGq/0zrUxydol3Fks61MdWweHxCz///8YKNSq/Nn4HdSyaCxYFbpf//NExE8QiV6kAMnWlDAUBxXtfLsQzwl/GvCX+a//749AqNkUgcVhQNQj7XUahn/uEUaFdRC6F+dMpWu+OpP///1hACizNlqqarcaHTYmIWarYY8kX6yXc7VwLso4VZjn//NExF8R0VagANGSlM33XX8pSkeIoERQ5bfL82ItR/iQNCY8Gk00fUi3Eq+RiXqqeW/t5KlyXTS6USEYOZUnmUVoACDFRYxMHSBdRCSpFygmB6D0WnO+yPpXOVvSpWlK//NExGoQoTqcANHKcJAUUv+ihTOFQUOPLO2yNhYVO/9+SYW3DNKnr4///+MqApQGC7zHxWwRFjAgJD6PsEXqarx4ZNz3etr54FGDw6AC7Ew0GoiPJeHRKBipsCL6xTZZ//NExHoRkRJoANnEcN+2q53dbuZT+Svp15gjAtoYSZnBDB14cVSM0kYCBaouOWtVXX/5e3Zei2ReoAtAk4b7vZOpQOcSgc4l60FM66CLCfCUBuDjKazjVvZ7rKSCczT3//NExIYQODZEAVsYAGWmkrsmtI1L5TMDzJVd2fSS3qOqdC9lqazLZV1qZfs/rTN1IMkpk1vuvUmvV9/rrVpamZ1st3WmbiUDjkHAeHGpiyv1nkvy8ipf+ktFn97Lp+1v//NExJgfsyJAAZtoAfSduh9ZmkeNM8yiKn7Iaky+odh4oD3JRItH8bScbHh3DWHNb/QaTRg0B3kgMQRgsKI90yeMAGgWgjA5xyDLEpGWHMCYCV/T03QoNlpKCZjDjsHM//NExGwhgyqYAYVoADkWSpSPEgaKxhC4biyC/j2EpFYbSkFzTIBRODu8jEIeQhM9p3P03/////3s//DL3w9/1/vvf/79Q9+/l3XczG55CUcKtZGeZKPwx7VUkQBY89hT//NExDkfwxqkAcVIAJY3QWtxERmAQMLPFIwggdZPEaIhQidCdIw2gciKvFIkBp0KBc4bIVxGIQSFkBAxgoiTkbSxMx4cWWiqozzcyFAZbUxh1utTMet0cINP/9ef9GWZ//NExA0S+va4ABBGuOuy/+RGIu/888sjperU5JzutTZdCOOItyk3ShRN5UhA0iooMmPHwpcUdqKbawHIsHKo6CqcPJrWjMZGNQorIIbdMCnUOfKCVrvouxwkJCDjaRuX//NExBQU0KasAVgwANTGnsXb9TCvT6wqHJlAAYDhbk04QE6Hi6vU44XQR9zHscTJVaFT0ksqOAsisREioiAT1PoYHannVnbp5T9rOqpN1BprheskEtVW8temArxl6AhY//NExBMXYXK8AZh4AEfcig5bEIYnWWY/VEhC8ZCEJ491McSsKsg8FXHIVppwZMT6fRIkPDfuPHvWFLBkzGiP4seBmPHpLnOr7mj7tl/LuJunzEiRA8/gOj+M4XcV0voc//NExAgTmXbIAY9gAE+HYTk3jfUZKk8d5YSWEvLBghSlJKc0Lbh4TWDpGB1afCSNz6KvdVmtv137bkzX8y1t+20us76Ta18yft+W205tbc6Y6fNVDEDNOIbwg4GEl5up//NExAwUwXbAAY9gADJQhKREnJO7fiYkADYQx3aLacQVBKMQTAmLEZLYXnqQMhGbfq/66fyqrce26/22//luVq1Zn9imcbvae6vMsz21qtg0/0+bTAJxDogiBedStXCp//NExAwVqVa0AZhgABnCscYjCj691vwSsZYYDYcMlNlGJIknpFI5EDIkKCIW4DoTSsTH4Wuvk95Oeq7WJfRHE+xSJfH+NfabdlKJ335nM9afEoiB4h/g0jGNMlYlkDuD//NExAgUOUKgAZl4ACR0hyqGSkkxDA1qq3JbLA16aXxkV02Dvxq1o3SIrhvktiJI0n93sGiclleOdd6p9/G/GeM+Ykf/esbzWv/xndtR4/wn0H+7/9U0l018wyn4JKC2//NExAoUCQaEAZp4ALBZoyBcyQEIQKiMeUQnvO+bvQh0G7DiMlejJxgRqGxmBRrMFapNHb3rqaFfdbfW96m1quYTbi3xDj7m0XQ6y/+7o9P///SqMFrN00MpEMq9MmgN//NExAwVqRaIAZpgAIyhZOY0IZcaPJR0uPDHyeGPw4y58SSMUwflQ8EEiL3UGrxUQI3TIvE/Ge2tn/fYpN+rbo+3ppFHTpxiwgPfnFPT6/SOX//9Sf//RUQCiqdZMcRD//NExAgUqXK0AZh4AEAkhYYpsvNhyizOIEX7Dqx1YDrZ91bXpBTuT8NXqtWYYVNDQ4wRgMzzWKUxjWe7i5mtf/N931XH+I0GDSP/6U1f//f+PquIbUdvQghAs5jFuD5C//NExAgTqSbAAY9gADJxnOi0IcDBJetnyTEloyiWO8mZ2YuiEbCXZEZma0ArhWBIGp6/T6UdrF2Le2vZSaUnve37bWCuR8TGg49TAyIw6CqXd/CVJwDXF2BiCvjfLgTx//NExAwVeWbAAY94AAwk7E2mCOMhZVq02D/RSEFgRjYZp0k5Qgu5j5jNTpXoobzPJC1W9Id6U1bdv7Vj5tEve8DVM/Fcvd53eBSmvnPjU1iMJRob5TwCLqUA5Bzm8ORb//NExAkT+TrIAY94AC3Ks01SxnaORiMh0rT+QtYHmiEINNvbjlL8gVapi4HROn1XePjeM4p9X3fdMf2zmkfO6TwKfWr7384teARhECGzwfDLul3VHeO0uouxIBP0NP5R//NExAwTgVbIAY9gAJ1SHmdRjl9SBbEqIwhCMCRDEAQDUR0ooI3mgMxIqWQLk+uTNavVnv+mde1vzI7bTrRb9PYYycrWla5fefAwnBcv6CBCSJ87xpnisH+ok6mDRuXI//NExBESwT7IAY9gAO0lLw0goHBYblZIEw/DiO47lvkAsB9c6BqTv7v/97ZnJm093b72ZnM9n1mFimde8NCbwAdSRBX0N4wnoN4YANsHAqTNM1cH2Ts2i6BnjcTUETIW//NExBkXUV68AY94ANM49R6E6ZY4E5KSkcSMenKJ+53L4QRZZ59ZxnGtZ3qlsazSHmjHfGqbct0puBAcZIdZMxYl8XxAs/Kg+DIcM5RHJnP6VSqGAr12RsuLAm2ZUvE6//NExA4SeSbIAY9gALSiN0npylkBwcC4ZqmlIlG4hiWvoZkglODkMh9r3X33Z6ZrO1nqZf7z9thzezsjwwFxILQAEgqwA+Vb1IKtBOPhOEcpj/emdM1FK9LgohdkizEe//NExBcSWXa4Ac9oAeJ8rEE3oTMJ0SQc8xB5KRJCVrH6ZGrIP0KmtVWqrPU0V5eYrs1b051lNQcyTWfY75y1NfgDPYHdAhku25pVdJ/BPnA7hRykFukTUqT3taCyiOym//NExCARAXK0AHvKlN3OrcOaS/t/v36NemWrVle0IxoI5t5Np6MgbCLiRdzE///9C9QQNTh9G1kiKFXF2Ta5VuOxGpR9TotAwy3R1OqmBDWAmCOIQUqKuNpvtSrUzqsx//NExC8RwSqwAHvUcNR+x5OLJhKUHKDAmSsEBGDosbU0j///6spAJLFELQKYPGichKBaXaikOFQFxbQGLg4rSue3J1yU4XgpODm1LTb7WnqVZSnbol3R1WzKULFARWql//NExDsRYW6sAHsKlZTIkzo4wqUZ+8a1sv+L2iwYnbtSbra11nU0Itrx9JA+4PaIUD8V4lh0mHEknwUlgnR71Hr93zbuYyK3pH8q9/SAagI5kvkymadUYWEuKnk///+t//NExEgR8WagAMMGlHCKrqOz7BJz9Iqw6zy8/MWj0uhssLiIc2j6QptcYk6mnbDqSxOThYmZfZZXtbb/1XNddeWn+/KUE71aZwxhKcDhjtDRFFCv//6VZOFsY3oTNT8j//NExFMSYU6MAMvElIz6XvC1pY0vhmWuyaIIWnakvGS1o9yAvxHrzz3Q871ptlvn8sgUv//5SGI/pdW2cUKkdbv///3T31Iw0WMOmTxC0LiwXFVCI7mzmZdWxh31kIVA//NExFwQqWJwANMElDGRSSoKikeQiJpQ1OYhKOk1//eU0lYoZuf/D//NUIJZWkNTLVSUQx/V9Pb///01MCGMVFOk1MAAMWAcd7X+gtr0lkMZJUGRBABPmj76rSSe5LLA//NExGwR2WZUANpGlIRaSjjKLCIAiqlR8qGKUpWUvTRsz6B4Eiz/lrJ7//6v3/Pf+pUBdE0BjGaSVTObU5hY2FYPgiTMqsy4ZwFBXYKCjMfs4kiWJhp4VCTlAUBSxJkO//NExHcSESI4ANMKcJ2sa5RVNJJk8drXoZt7tCoI2ewRwTBoT7PeGFAwwujn10Yigb9d4Bn1nwQygYRBA4fUCC5QMJid1YP5cP4nP4n4fk1OLn1QfP4JvlAxiA5gg6oM//NExIEPSKHoAHpGTFUFbh5YGfT/RFW5GJfHX7aW8MJfyUUspuANB1BAFBFU4PlYowyDh8nXSFDyyanGNJJPw2oqt2tyq72wKpdtYNT1XZkekUPRKSTvJohU2biFjimT//NExJYQyHHcAHpGSCSDjmicYzOIQUFM2QlBpmeS10N6pV3ocPztw4c4hfHNkEJ0Wj1pOk0oKCwBcBryWbHpA2ztVpfFoCgCUvWChOG3kCBNUlRKGFSNtAYQqOVuuncE//NExKUdaw3cAMoGuXbDFrzzPG/CFz217zP/8jGcqr6RZszZSRmOkRyTqqVvCVa1v6lGIjPIjbZjt04CN6pZ54kSptMlCrAzDragQMKFZyGKAgShQTDsClCgI2o0eGLM//NExIIfUxnUAMpGvTiyZlGkO4rUICYK1lk6jLzQhvZbWIYdnZUFBeXnJFJ60fCZiNcw6XkjpVZaTedsevv0VY1WxroHWW7QbRiz4tRiGE0WOxLaHD4QEeQschA2wJGB//NExFchQw3QAMMGuSEpJBYAhvVrjrTY6D4HvmcEDGq7AkKzyRGHdjyKuc5DtKRJm0Jaq7S18zq47wZPYwmNagMpv1MVBX5pX2Z1In1Zy/LNkLRUEQy5aVwIRSysil6R//NExCUZuXXIAMJGlTNImtjUpSRaqxqFaqTNqVWMdXbZjVfrHVX6tCiXfCBYRwUcFHBWIV/xRc3QVgV0VCGf4U//Cu/503Pf+/f9or/6CyIplCh0Rofdh8KZxIBABgqC//NExBEVELXEAMJMTG8gFB0ntdsgQcHWQuiEk9MQchh6cRz9D4gBcLBAMExAtzzkv////301YYl415MMFyigifEBNYEcHwyUE6giGA+GC4XVFChZEnSXbeMuVXg0KHyz//NExA8UkMHsAMMGTAJhITutQnZ1i0GBI0YSLOUYAGsNBlY6LAp8PgQwIyEVeMMpScPtKOhit8omcfKYZrfKZyPpvrVY0ZS15+rZK2GFkYmVMGz5krQ4zNp1dr+uFDNJ//NExA8VwQnYAMJGcEA+QiVDdEQqaapYmRLYhIWWUNUSCY2htCK0ocmq0uqt2DB0cDTSp2TNWNeZCkGTEFTqg7A1ZJOSlTsRPUCsFXQaq6tG0tHaKxFMzgTpgNsjW7tl//NExAsUWNXoAMGGcL+mjkOiAQ8I6QUgaI/CKhI2yrgmGMGxuTmpWPSHxKIA8k6CkYIWETAcVDyWselci4e0+hTVxlidSFvbdpuZehirlWUr720qBFg8G9ymTI2XQ+/7//NExAwT6J3oAMpGTPwHEuljpNM2TJEsYAIpXFAhJEAmtcMNBCBRcGAoGTJ8ICg42UQwjcYRoMGP2KV2M6tyETVzkpovek4tNVrVsWuLMU1dNIQIxkuebuOr9pnJj0rX//NExA8QiH3wAHmGSL+MwJIEEO4sw6KUqSx1OXB8HwfDEPg+aBB3/84r9ovi4Pg/WJwfB/3A+L0Bk/8MGHSjjCoVl5BEEqIQMSxg7G7IEOu+7qM4MRAcEogwxEsTN8xb//NExB8TsQn0AGDGcK09XciNjPiEUYUOBsDJpexgwozFCb0Fxa7Ulo+Gk1rOiJS3M1oWdBVf10jmi9i2oqAeFhHVCMMS2eQk4sJYHUmcWtjSHSNmLJa+FrNUDsqigZfS//NExCMSoQ4AAGGGcA0dvzM0WeEHiw9I2XTSt0OEkuErjSFF+onWKkEhH8Ioxaj0L1M31KpkmioKi6IqEvPSoGUAqRb0xS0hQoUAmYwwqqqxm/Y1jBTOw0HZYeGg4VEQ//NExCsRwLngAGJGTPBVYakSf0EajxKIpYrxFXpae7mHXkdxIjyR5+pMQU1FMy4xMDCqqqqqqqqqqqqqqqqqqqqqqqqqqqqqqqqqqqqqqqqqqqqqqqqqqqqqqqqqqqqq\" type=\"audio/wav\" />\n",
       "                    Your browser does not support the audio element.\n",
       "                </audio>\n",
       "              "
      ],
      "text/plain": [
       "<IPython.lib.display.Audio object>"
      ]
     },
     "metadata": {},
     "output_type": "display_data"
    },
    {
     "name": "stdout",
     "output_type": "stream",
     "text": [
      "표준어 데이터 :  많이 남으면 거기 스티로폼 비닐 넣은 데에 파를 많이 심어놔요\n"
     ]
    },
    {
     "data": {
      "text/html": [
       "\n",
       "                <audio  controls=\"controls\" autoplay=\"autoplay\">\n",
       "                    <source src=\"data:audio/wav;base64,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\" type=\"audio/wav\" />\n",
       "                    Your browser does not support the audio element.\n",
       "                </audio>\n",
       "              "
      ],
      "text/plain": [
       "<IPython.lib.display.Audio object>"
      ]
     },
     "metadata": {},
     "output_type": "display_data"
    },
    {
     "name": "stdout",
     "output_type": "stream",
     "text": [
      "표준어 데이터 :  그러면 봄까지 뽑아 먹으면 너무 좋더라고 그래서 저는 그렇게 먹어요\n"
     ]
    },
    {
     "data": {
      "text/html": [
       "\n",
       "                <audio  controls=\"controls\" autoplay=\"autoplay\">\n",
       "                    <source src=\"data:audio/wav;base64,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\" type=\"audio/wav\" />\n",
       "                    Your browser does not support the audio element.\n",
       "                </audio>\n",
       "              "
      ],
      "text/plain": [
       "<IPython.lib.display.Audio object>"
      ]
     },
     "metadata": {},
     "output_type": "display_data"
    }
   ],
   "source": [
    "for idx,row in test.iterrows():\n",
    "    print('표준어 데이터 : ',row['Best_Post'])\n",
    "    tts=gTTS(text=row['Best_Post'], lang='ko', slow=True)\n",
    "    file_name=f\"C:/Users/ej077/ds_study/source_code/ML_project/음성테스트{idx}.wav\"\n",
    "    tts.save(file_name)\n",
    "\n",
    "    from IPython.display import Audio\n",
    "    display(Audio(file_name, autoplay=True))"
   ]
  }
 ],
 "metadata": {
  "kernelspec": {
   "display_name": "ds_study_n",
   "language": "python",
   "name": "ds_study_n"
  },
  "language_info": {
   "codemirror_mode": {
    "name": "ipython",
    "version": 3
   },
   "file_extension": ".py",
   "mimetype": "text/x-python",
   "name": "python",
   "nbconvert_exporter": "python",
   "pygments_lexer": "ipython3",
   "version": "3.10.0"
  },
  "orig_nbformat": 4,
  "vscode": {
   "interpreter": {
    "hash": "fb4569285eef3a3450cb62085a5b1e0da4bce0af555edc33dcf29baf3acc1368"
   }
  }
 },
 "nbformat": 4,
 "nbformat_minor": 2
}
